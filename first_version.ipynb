{
 "cells": [
  {
   "cell_type": "markdown",
   "id": "76f4675f-cef8-4ba5-a3e1-ceba5247e8e6",
   "metadata": {},
   "source": [
    "# AfD Fraktion im Bundestag - rechte Sprachrethorik? \n",
    "\n",
    "Im März 2022 wurde die Partei Alternativ für Deutschland (AfD) in einem Urteil des Verwaltungsgerichts Köln erneut als rechtsextremen Verdachtsfall eingestuft. [https://www.vg-koeln.nrw.de/behoerde/presse/Pressemitteilungen/Archiv/2022/06_08032022/ (letzter Zugriff: 29.12. 2023)] Nach mehreren juristischen Versuchen der Partei, der Einstufung durch das Bundesamt für Verrfassungschutz (BfV) zu widersprechen, die seit 2018 besteht, wird sie durch das Urteil nunmehr offiziell vom Verfassungsschutz beobachtet.\n",
    "\n",
    "Inwiefern lässt sich auch in der Sprachrethorik der Mitglieder der AfD Fraktion im Bundestag ihre rechtsextreme Geisteshaltung aufzeigen? Worin liegen die sprachlichen Unterschiede zu anderen Parteien? -> Oder lässt sich eine sprachliche Nähe zu anderen rechtsextremen Parteien wie der NPD oder der NSDAP darlegen? (da müssten wir jedoch auf ein anderes Datenset zurückgreifen, da die NPD nie Redeanteile im Bundestag hatte.) \n",
    "\n"
   ]
  },
  {
   "cell_type": "code",
   "execution_count": 2,
   "id": "d8adb1cd-ca58-42f0-b1fa-12e3fb6a45d3",
   "metadata": {},
   "outputs": [],
   "source": [
    "import spacy"
   ]
  },
  {
   "cell_type": "code",
   "execution_count": 4,
   "id": "fab599a3-590f-4586-a2d9-c4346e41c2c4",
   "metadata": {},
   "outputs": [
    {
     "name": "stdout",
     "output_type": "stream",
     "text": [
      "Collecting de-core-news-sm==3.5.0\n",
      "  Downloading https://github.com/explosion/spacy-models/releases/download/de_core_news_sm-3.5.0/de_core_news_sm-3.5.0-py3-none-any.whl (14.6 MB)\n",
      "\u001b[2K     \u001b[38;2;114;156;31m━━━━━━━━━━━━━━━━━━━━━━━━━━━━━━━━━━━━━━━━\u001b[0m \u001b[32m14.6/14.6 MB\u001b[0m \u001b[31m1.6 MB/s\u001b[0m eta \u001b[36m0:00:00\u001b[0mm eta \u001b[36m0:00:01\u001b[0m[36m0:00:01\u001b[0m\n",
      "\u001b[?25hRequirement already satisfied: spacy<3.6.0,>=3.5.0 in /home/zork/anaconda3/envs/NLPev/lib/python3.11/site-packages (from de-core-news-sm==3.5.0) (3.5.3)\n",
      "Requirement already satisfied: spacy-legacy<3.1.0,>=3.0.11 in /home/zork/anaconda3/envs/NLPev/lib/python3.11/site-packages (from spacy<3.6.0,>=3.5.0->de-core-news-sm==3.5.0) (3.0.12)\n",
      "Requirement already satisfied: spacy-loggers<2.0.0,>=1.0.0 in /home/zork/anaconda3/envs/NLPev/lib/python3.11/site-packages (from spacy<3.6.0,>=3.5.0->de-core-news-sm==3.5.0) (1.0.4)\n",
      "Requirement already satisfied: murmurhash<1.1.0,>=0.28.0 in /home/zork/anaconda3/envs/NLPev/lib/python3.11/site-packages (from spacy<3.6.0,>=3.5.0->de-core-news-sm==3.5.0) (1.0.7)\n",
      "Requirement already satisfied: cymem<2.1.0,>=2.0.2 in /home/zork/anaconda3/envs/NLPev/lib/python3.11/site-packages (from spacy<3.6.0,>=3.5.0->de-core-news-sm==3.5.0) (2.0.6)\n",
      "Requirement already satisfied: preshed<3.1.0,>=3.0.2 in /home/zork/anaconda3/envs/NLPev/lib/python3.11/site-packages (from spacy<3.6.0,>=3.5.0->de-core-news-sm==3.5.0) (3.0.6)\n",
      "Requirement already satisfied: thinc<8.2.0,>=8.1.8 in /home/zork/anaconda3/envs/NLPev/lib/python3.11/site-packages (from spacy<3.6.0,>=3.5.0->de-core-news-sm==3.5.0) (8.1.10)\n",
      "Requirement already satisfied: wasabi<1.2.0,>=0.9.1 in /home/zork/anaconda3/envs/NLPev/lib/python3.11/site-packages (from spacy<3.6.0,>=3.5.0->de-core-news-sm==3.5.0) (0.9.1)\n",
      "Requirement already satisfied: srsly<3.0.0,>=2.4.3 in /home/zork/anaconda3/envs/NLPev/lib/python3.11/site-packages (from spacy<3.6.0,>=3.5.0->de-core-news-sm==3.5.0) (2.4.8)\n",
      "Requirement already satisfied: catalogue<2.1.0,>=2.0.6 in /home/zork/anaconda3/envs/NLPev/lib/python3.11/site-packages (from spacy<3.6.0,>=3.5.0->de-core-news-sm==3.5.0) (2.0.7)\n",
      "Requirement already satisfied: typer<0.8.0,>=0.3.0 in /home/zork/anaconda3/envs/NLPev/lib/python3.11/site-packages (from spacy<3.6.0,>=3.5.0->de-core-news-sm==3.5.0) (0.4.1)\n",
      "Requirement already satisfied: pathy>=0.10.0 in /home/zork/anaconda3/envs/NLPev/lib/python3.11/site-packages (from spacy<3.6.0,>=3.5.0->de-core-news-sm==3.5.0) (0.10.1)\n",
      "Requirement already satisfied: smart-open<7.0.0,>=5.2.1 in /home/zork/anaconda3/envs/NLPev/lib/python3.11/site-packages (from spacy<3.6.0,>=3.5.0->de-core-news-sm==3.5.0) (5.2.1)\n",
      "Requirement already satisfied: tqdm<5.0.0,>=4.38.0 in /home/zork/anaconda3/envs/NLPev/lib/python3.11/site-packages (from spacy<3.6.0,>=3.5.0->de-core-news-sm==3.5.0) (4.65.0)\n",
      "Requirement already satisfied: numpy>=1.15.0 in /home/zork/anaconda3/envs/NLPev/lib/python3.11/site-packages (from spacy<3.6.0,>=3.5.0->de-core-news-sm==3.5.0) (1.26.0)\n",
      "Requirement already satisfied: requests<3.0.0,>=2.13.0 in /home/zork/anaconda3/envs/NLPev/lib/python3.11/site-packages (from spacy<3.6.0,>=3.5.0->de-core-news-sm==3.5.0) (2.31.0)\n",
      "Requirement already satisfied: pydantic!=1.8,!=1.8.1,<1.11.0,>=1.7.4 in /home/zork/anaconda3/envs/NLPev/lib/python3.11/site-packages (from spacy<3.6.0,>=3.5.0->de-core-news-sm==3.5.0) (1.10.12)\n",
      "Requirement already satisfied: jinja2 in /home/zork/anaconda3/envs/NLPev/lib/python3.11/site-packages (from spacy<3.6.0,>=3.5.0->de-core-news-sm==3.5.0) (3.1.2)\n",
      "Requirement already satisfied: setuptools in /home/zork/anaconda3/envs/NLPev/lib/python3.11/site-packages (from spacy<3.6.0,>=3.5.0->de-core-news-sm==3.5.0) (68.0.0)\n",
      "Requirement already satisfied: packaging>=20.0 in /home/zork/anaconda3/envs/NLPev/lib/python3.11/site-packages (from spacy<3.6.0,>=3.5.0->de-core-news-sm==3.5.0) (23.1)\n",
      "Requirement already satisfied: langcodes<4.0.0,>=3.2.0 in /home/zork/anaconda3/envs/NLPev/lib/python3.11/site-packages (from spacy<3.6.0,>=3.5.0->de-core-news-sm==3.5.0) (3.3.0)\n",
      "Requirement already satisfied: typing-extensions>=4.2.0 in /home/zork/anaconda3/envs/NLPev/lib/python3.11/site-packages (from pydantic!=1.8,!=1.8.1,<1.11.0,>=1.7.4->spacy<3.6.0,>=3.5.0->de-core-news-sm==3.5.0) (4.7.1)\n",
      "Requirement already satisfied: charset-normalizer<4,>=2 in /home/zork/anaconda3/envs/NLPev/lib/python3.11/site-packages (from requests<3.0.0,>=2.13.0->spacy<3.6.0,>=3.5.0->de-core-news-sm==3.5.0) (2.0.4)\n",
      "Requirement already satisfied: idna<4,>=2.5 in /home/zork/anaconda3/envs/NLPev/lib/python3.11/site-packages (from requests<3.0.0,>=2.13.0->spacy<3.6.0,>=3.5.0->de-core-news-sm==3.5.0) (3.4)\n",
      "Requirement already satisfied: urllib3<3,>=1.21.1 in /home/zork/anaconda3/envs/NLPev/lib/python3.11/site-packages (from requests<3.0.0,>=2.13.0->spacy<3.6.0,>=3.5.0->de-core-news-sm==3.5.0) (1.26.18)\n",
      "Requirement already satisfied: certifi>=2017.4.17 in /home/zork/anaconda3/envs/NLPev/lib/python3.11/site-packages (from requests<3.0.0,>=2.13.0->spacy<3.6.0,>=3.5.0->de-core-news-sm==3.5.0) (2023.11.17)\n",
      "Requirement already satisfied: blis<0.8.0,>=0.7.8 in /home/zork/anaconda3/envs/NLPev/lib/python3.11/site-packages (from thinc<8.2.0,>=8.1.8->spacy<3.6.0,>=3.5.0->de-core-news-sm==3.5.0) (0.7.9)\n",
      "Requirement already satisfied: confection<1.0.0,>=0.0.1 in /home/zork/anaconda3/envs/NLPev/lib/python3.11/site-packages (from thinc<8.2.0,>=8.1.8->spacy<3.6.0,>=3.5.0->de-core-news-sm==3.5.0) (0.0.4)\n",
      "Requirement already satisfied: click<9.0.0,>=7.1.1 in /home/zork/anaconda3/envs/NLPev/lib/python3.11/site-packages (from typer<0.8.0,>=0.3.0->spacy<3.6.0,>=3.5.0->de-core-news-sm==3.5.0) (8.1.7)\n",
      "Requirement already satisfied: MarkupSafe>=2.0 in /home/zork/anaconda3/envs/NLPev/lib/python3.11/site-packages (from jinja2->spacy<3.6.0,>=3.5.0->de-core-news-sm==3.5.0) (2.1.1)\n",
      "Installing collected packages: de-core-news-sm\n",
      "Successfully installed de-core-news-sm-3.5.0\n",
      "\u001b[38;5;2m✔ Download and installation successful\u001b[0m\n",
      "You can now load the package via spacy.load('de_core_news_sm')\n"
     ]
    }
   ],
   "source": [
    "!python -m spacy download de_core_news_sm"
   ]
  },
  {
   "cell_type": "code",
   "execution_count": 6,
   "id": "6fe27e3c",
   "metadata": {},
   "outputs": [],
   "source": [
    "nlp = spacy.load(\"de_core_news_sm\") # NLP Object erstellen"
   ]
  },
  {
   "cell_type": "code",
   "execution_count": 7,
   "id": "04238370",
   "metadata": {},
   "outputs": [],
   "source": [
    "with open(\"data/test_antrag\", \"r\") as f: # Datei als f einlesen\n",
    "    text = f.read() # text Object erstellen"
   ]
  },
  {
   "cell_type": "code",
   "execution_count": null,
   "id": "ab496a09",
   "metadata": {},
   "outputs": [],
   "source": [
    "\n"
   ]
  },
  {
   "cell_type": "code",
   "execution_count": 9,
   "id": "e343c8cf",
   "metadata": {},
   "outputs": [],
   "source": [
    "doc_test = nlp(text) # doc Object erstellen, pipeline"
   ]
  },
  {
   "cell_type": "code",
   "execution_count": 11,
   "id": "97e76011",
   "metadata": {},
   "outputs": [
    {
     "name": "stdout",
     "output_type": "stream",
     "text": [
      "Die von der Bundesregierung und den Landesregierungen kürzlich rigoros verhängten Maßnahmen im Rahmen\n",
      "der sogenannten Klimaschutzpolitik wirken als Brandbeschleuniger für die durch die schweren ökonomischen\n",
      "Verfehlungen der letzten Jahrzehnte in Deutschland bereits schwelende Wirtschaftskrise. Ab dem Jahr 2023 ist\n",
      "gar eine Deindustrialisierung, unter anderem durch hohe Energiepreise zu befürchten, welche als eine bedeutende\n",
      "Ursache die aktuelle CO2-Bepreisung haben. Die Menschen haben nicht nur substanzielle Freiheitsbeschränkun-\n",
      "gen erduldet, die allermeisten haben mit deutlichen Einkommenseinbußen zurechtkommen müssen, nicht wenige\n",
      "verlieren ihre Arbeit und sind in ihrer beruflichen Existenz bedroht. Die OECD zeigt für Deutschland den Rück-\n",
      "gang der Wirtschaftsleistung im Jahr 2020 um über 6 %, die im OECD-Vergleich sehr schwache Erholung und\n",
      "ab 2023, ebenfalls anders als beim OECD-Raum, ein Negativwachstum auf.3 Die deutsche Wirtschaft beurteilt\n",
      "die Lage bedeutend schlechter: Laut einer Mitgliederumfrage des Deutschen Industrie- und Handelskammertages\n",
      "(DIHK) sinkt die Wirtschaftsleistung um deutlich mehr als 10 Prozent.4 Es ist daher dringend geboten, wirkungs-\n",
      "lose beziehungsweise überflüssige Ausgaben einzusparen – insbesondere der Staat ist hier in der Pflicht. Derar-\n",
      "tige substanzielle Standortnachteile in Deutschland führen, neben den teils durch die CO2-Bepreisung getriebe-\n",
      "nen Energiekosten, zu signifikanter Abwanderung von Wertschöpfung und dürfte die vorherrschende Rezession\n",
      "verstetigen oder gar deutlich verstärken.\n",
      "Der Treibhausgas-Emissionshandel und die Bepreisung nach dem BEHG wird die deutsche Wirtschaft allein\n",
      "2024 fast 19 Milliarden Euro (s. Bundestagsdrucksache 20/7800) kosten, wobei die Bepreisung noch ganz erheb-\n",
      "lich steigen soll. So steigt der Preis inkl. Umsatzsteuer für einen Liter Diesel oder Heizöl auf 14 Cent (Benzin\n",
      "etwas weniger), jener für Erdgas auf 1 Cent/kWh bei 50 Euro/Tonne (2025), was insgesamt bereits einige hundert\n",
      "Euro pro Jahr und Haushalt an Mehrkosten bewirkt. Ab 2025 beträgt die dadurch verursachte jährliche Belastung\n",
      "durch die CO2-Bepreisung ca. 1.000 Euro, bei einer vierköpfigen Familie bis zu 2.000 Euro. Bei dem Szenario\n",
      "der EU,5 ab 2027 nahezu alle Sektoren dem CO2-Emissionshandel zu unterwerfen und somit nach Abschätzungen\n",
      "des Potsdam-Instituts für Klimafolgenforschung (PIK) einen Preis bis zu 300 Euro/Tonne bzw. ab 2045 bis zu\n",
      "450 Euro/Tonne6 zu forcieren, kämen somit über 5 bzw. 7,5 Cent/kWh für Erdgas und 80 bzw. 120 Cent/Liter\n",
      "für Heizöl dauerhaft an Kosten hinzu – dies wären dann jährlich etliche tausend Euro Mehrkosten pro Haushalt.\n",
      "Die Abschaffung des Treibhausgas-Emissionshandels und des Brennstoffemissionshandelsgesetzes würde daher,\n",
      "ab dem Jahr 2027 substanziell, Bürger und Unternehmen entlasten, Kaufkraft freisetzen und den Unternehmen\n",
      "dringend benötigte finanzielle Spielräume geben.\n",
      "Trotz dieser hohen Kosten für die Verbraucher ist die CO2-Bepreisung in der EU zudem in Bezug auf die welt-\n",
      "weiten Emissionen praktisch wirkungslos. Zum einen wird das nicht betroffene Ausland kaum angereizt, seine\n",
      "Emissionen zu senken.7 Die Nachfrage entsprechender Güter würde lediglich in der EU gedämpft (mit Nachteilen\n",
      "für die Volkswirtschaft, etwa durch hohe Kosten eines „erneuerbaren“ Energiesystems) und, durch die dadurch\n",
      "potentiell fallenden Güterpreise, vor allem in den Schwellenländern entsprechend erhöht, sodass der weltweite\n",
      "Gesamtausstoß nicht sinkt („green paradox“).8, 9 Verbraucher schöpfen bereits jetzt wegen der hohen Brennstoff-\n",
      "preise Einsparpotentiale aus, sodass auch hier nach Ansicht von Sachverständigen keine Lenkungswirkung durch\n",
      "3 www.oecd.org/berlin/presse/deutschlands-rueckkehr-zu-starkem-robustem-und-nachhaltigem-wachstum-\n",
      "erfordert-zukunftsorientierte-investitionen-und-reformen.htm\n",
      "4 www.dihk.de/de/aktuelles-und-presse/presseinformationen/corona-beschert-der-industrie-dramatischen-\n",
      "nachfragerueckgang-24074\n",
      "5 www.bmwk.de/Redaktion/DE/Pressemitteilungen/2023/04/230418-europaisches-parlament-bestatigt-eini-\n",
      "gung-zur-reform-des-eu-emissionshandel.html\n",
      "6 www.capital.de/immobilien/co2-preis--der-klima-preishammer-koennte-erst-noch-kommen-33503164.html\n",
      "7 Fritz Söllner, „EU-Pläne für einen CO2-Grenzausgleich“, https://doi.org/10.1007/s10273-022-3257-6\n",
      "8 www.bundestag.de/resource/blob/893752/b9a39d351d971312b998fc63ec855a18/Stellungnahme-SV-Prof-\n",
      "Dr-Fritz-Soellner-TU-Ilmenau-data.pdf, Stellungnahme von Prof. Fritz Söllner zur Anhörung zu CBAM am\n",
      "11.05.2022\n",
      "9 Hans-Werner Sinn, „The Green Paradox. A Supply-Side Approach to Global Warming“ The MIT Press,\n",
      "Cambridge, Massachusetts, and London, GB February 2012, ISBN-13: 978-0-262-01668-1\n",
      "www.hanswernersinn.de/en/Book_GreenParadox_MIT2012\n",
      "Drucksache 20/9505 – 4 – Deutscher Bundestag – 20. Wahlperiode\n",
      "höhere Bepreisungen zu erwarten ist,10,11 zumal ein Ausweichen auf Gebäude mit niedrigem Heizbedarf ange-\n",
      "sichts der angespannten Wohnungslage kaum möglich ist.\n",
      "Es ist erheblich zielführender und daher geboten, sich den klimatischen Bedingungen in erforderlicher Weise\n",
      "anzupassen. Dies ist bislang nur unzureichend erfolgt, wird jedoch zukünftig wahrscheinlich erforderlich werden.\n",
      "Daher sollten, sobald sich die wirtschaftlichen Bedingungen in Deutschland wieder normalisiert haben, Mittel\n",
      "im Bundeshaushalt bereitgestellt werden, die Deutschland für Notsituationen und Naturkatastrophen besser vor-\n",
      "bereiten. Die aufzuwendenden Gelder wären geringer bzw. würden überdies erst dann anfallen, wenn die Situa-\n",
      "tion sich absehbar zum Schlechteren verändern würde, und der Nutzen, gerade in Ausnahmesituationen, sehr\n",
      "hoch, etwa für die aktuell im Fokus stehenden systemrelevanten Sektoren.\n",
      "\n"
     ]
    }
   ],
   "source": [
    "print (doc_test)"
   ]
  },
  {
   "cell_type": "code",
   "execution_count": 12,
   "id": "150e5fcf",
   "metadata": {},
   "outputs": [
    {
     "name": "stdout",
     "output_type": "stream",
     "text": [
      "5679\n",
      "837\n"
     ]
    }
   ],
   "source": [
    "print (len(text))\n",
    "print (len(doc_test))"
   ]
  },
  {
   "cell_type": "code",
   "execution_count": 15,
   "id": "4022dd42",
   "metadata": {},
   "outputs": [
    {
     "name": "stdout",
     "output_type": "stream",
     "text": [
      "Die von der Bundesregierung und den Landesregierungen kürzlich rigoros verhängten Maßnahmen im Rahmen\n",
      "der sogenannten Klimaschutzpolitik wirken als Brandbeschleuniger für die durch die schweren ökonomischen\n",
      "Verfehlungen der letzten Jahrzehnte in Deutschland bereits schwelende Wirtschaftskrise.\n"
     ]
    }
   ],
   "source": [
    "sentence1 = list(doc_test.sents)[0] # gernerator object zu einer list casten, damit iteriert werden kann\n",
    "print(sentence1)"
   ]
  },
  {
   "cell_type": "code",
   "execution_count": 19,
   "id": "0f81c443",
   "metadata": {},
   "outputs": [
    {
     "name": "stdout",
     "output_type": "stream",
     "text": [
      "Die DET Case=Nom|Definite=Def|Gender=Fem|Number=Sing|PronType=Art nk\n",
      "von ADP  sbp\n",
      "der DET Case=Dat|Definite=Def|Gender=Fem|Number=Sing|PronType=Art nk\n",
      "Bundesregierung NOUN Case=Dat|Gender=Fem|Number=Sing nk\n",
      "und CCONJ  cd\n",
      "den DET Case=Dat|Definite=Def|Gender=Fem|Number=Plur|PronType=Art nk\n",
      "Landesregierungen NOUN Case=Dat|Gender=Fem|Number=Plur cj\n",
      "kürzlich ADV  mo\n",
      "rigoros ADV  mo\n",
      "verhängten ADJ Case=Acc|Degree=Pos|Gender=Fem|Number=Plur nk\n",
      "Maßnahmen NOUN Case=Dat|Gender=Fem|Number=Plur sb\n",
      "im ADP Case=Dat|Gender=Masc|Number=Sing mnr\n",
      "Rahmen NOUN Case=Dat|Gender=Masc|Number=Sing nk\n",
      "\n",
      " SPACE  dep\n",
      "der DET Case=Gen|Definite=Def|Gender=Fem|Number=Sing|PronType=Art nk\n",
      "sogenannten ADJ Case=Gen|Degree=Pos|Gender=Fem|Number=Sing nk\n",
      "Klimaschutzpolitik NOUN Case=Gen|Gender=Fem|Number=Sing ag\n",
      "wirken VERB Mood=Ind|Number=Plur|Person=3|Tense=Pres|VerbForm=Fin ROOT\n",
      "als ADP  mo\n",
      "Brandbeschleuniger NOUN Case=Nom|Gender=Masc|Number=Sing nk\n",
      "für ADP  mo\n",
      "die DET Case=Acc|Definite=Def|Gender=Fem|Number=Plur|PronType=Art nk\n",
      "durch ADP  mo\n",
      "die DET Case=Acc|Definite=Def|Gender=Fem|Number=Plur|PronType=Art nk\n",
      "schweren ADJ Case=Acc|Degree=Pos|Gender=Fem|Number=Plur nk\n",
      "ökonomischen ADJ Case=Acc|Degree=Pos|Gender=Fem|Number=Plur nk\n",
      "\n",
      " SPACE  dep\n",
      "Verfehlungen NOUN Case=Gen|Gender=Fem|Number=Plur nk\n",
      "der DET Case=Gen|Definite=Def|Gender=Neut|Number=Plur|PronType=Art nk\n",
      "letzten ADJ Case=Gen|Degree=Pos|Gender=Neut|Number=Plur nk\n",
      "Jahrzehnte NOUN Case=Gen|Gender=Neut|Number=Plur ag\n",
      "in ADP  mo\n",
      "Deutschland PROPN Case=Dat|Gender=Neut|Number=Sing nk\n",
      "bereits ADV  mo\n",
      "schwelende ADJ Case=Acc|Degree=Pos|Gender=Fem|Number=Sing nk\n",
      "Wirtschaftskrise NOUN Case=Acc|Gender=Fem|Number=Sing nk\n",
      ". PUNCT  punct\n"
     ]
    }
   ],
   "source": [
    "for token in sentence1:\n",
    "    print (token.text, token.pos_, token.morph, token.dep_) # wortarten"
   ]
  },
  {
   "cell_type": "code",
   "execution_count": 23,
   "id": "dccfd117",
   "metadata": {},
   "outputs": [
    {
     "ename": "ModuleNotFoundError",
     "evalue": "No module named 'spacytextblob'",
     "output_type": "error",
     "traceback": [
      "\u001b[0;31m---------------------------------------------------------------------------\u001b[0m",
      "\u001b[0;31mModuleNotFoundError\u001b[0m                       Traceback (most recent call last)",
      "Cell \u001b[0;32mIn[23], line 1\u001b[0m\n\u001b[0;32m----> 1\u001b[0m \u001b[38;5;28;01mfrom\u001b[39;00m \u001b[38;5;21;01mspacytextblob\u001b[39;00m\u001b[38;5;21;01m.\u001b[39;00m\u001b[38;5;21;01mspacytextblob\u001b[39;00m \u001b[38;5;28;01mimport\u001b[39;00m SpacyTextBlob \n\u001b[1;32m      2\u001b[0m \u001b[38;5;28;01mfrom\u001b[39;00m \u001b[38;5;21;01mtextblob\u001b[39;00m \u001b[38;5;28;01mimport\u001b[39;00m TextBlob\n\u001b[1;32m      3\u001b[0m \u001b[38;5;28;01mfrom\u001b[39;00m \u001b[38;5;21;01mtextblob\u001b[39;00m\u001b[38;5;21;01m.\u001b[39;00m\u001b[38;5;21;01msentiments\u001b[39;00m \u001b[38;5;28;01mimport\u001b[39;00m NaiveBayesAnalyzer\n",
      "\u001b[0;31mModuleNotFoundError\u001b[0m: No module named 'spacytextblob'"
     ]
    }
   ],
   "source": [
    "from spacytextblob.spacytextblob import SpacyTextBlob \n",
    "from textblob import TextBlob\n",
    "from textblob.sentiments import NaiveBayesAnalyzer"
   ]
  },
  {
   "cell_type": "code",
   "execution_count": null,
   "id": "9d60ab5b",
   "metadata": {},
   "outputs": [],
   "source": []
  }
 ],
 "metadata": {
  "kernelspec": {
   "display_name": "Python 3 (ipykernel)",
   "language": "python",
   "name": "python3"
  },
  "language_info": {
   "codemirror_mode": {
    "name": "ipython",
    "version": 3
   },
   "file_extension": ".py",
   "mimetype": "text/x-python",
   "name": "python",
   "nbconvert_exporter": "python",
   "pygments_lexer": "ipython3",
   "version": "3.11.5"
  }
 },
 "nbformat": 4,
 "nbformat_minor": 5
}
