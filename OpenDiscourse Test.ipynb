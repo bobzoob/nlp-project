{
 "cells": [
  {
   "cell_type": "code",
   "execution_count": 1,
   "id": "5362f454",
   "metadata": {},
   "outputs": [
    {
     "name": "stdout",
     "output_type": "stream",
     "text": [
      "    id  abbreviation                                          full_name\n",
      "0   -1     not found                                          not found\n",
      "1    0           AfD                        Alternative für Deutschland\n",
      "2    1           BHE      Block der Heimatvertriebenen und Entrechteten\n",
      "3    2            BP                                       Bayernpartei\n",
      "4    3         Grüne                              Bündnis 90/Die Grünen\n",
      "5    4       CDU/CSU  Christlich Demokratische Union Deutschlands/Ch...\n",
      "6    5            DA                  Demokratische Arbeitsgemeinschaft\n",
      "7    6    DIE LINKE.                                         DIE LINKE.\n",
      "8    7            DP                                    Deutsche Partei\n",
      "9    8        DP/DBP             Deutsche Partei/Deutsche Partei Bayern\n",
      "10   9        DP/FVP                  Deutsche Partei/Freie Volkspartei\n",
      "11  10           DPB                             Deutsche Partei Bayern\n",
      "12  11           DRP                              Deutsche Reformpartei\n",
      "13  12        DRP/NR             Deutsche Reichspartei/Nationale Rechte\n",
      "14  13           FDP                         Freie Demokratische Partei\n",
      "15  14            FU                              Föderalistische Union\n",
      "16  15           FVP                                  Freie Volkspartei\n",
      "17  16  Fraktionslos                                       Fraktionslos\n",
      "18  17        GB/BHE  Gesamtdeutscher Block/Bund der Heimatvertriebe...\n",
      "19  18          Gast                                               Gast\n",
      "20  19            KO                            Kraft/Oberländer-Gruppe\n",
      "21  20           KPD                 Kommunistische Partei Deutschlands\n",
      "22  21            NR                                   Nationale Rechte\n",
      "23  22           PDS              Partei des Demokratischen Sozialismus\n",
      "24  23           SPD            Sozialdemokratische Partei Deutschlands\n",
      "25  24           SSW                    Südschleswigscher Wählerverband\n",
      "26  25           WAV                 Wirtschaftliche Aufbau-Vereinigung\n",
      "27  26             Z                            Deutsche Zentrumspartei\n"
     ]
    }
   ],
   "source": [
    "import warnings\n",
    "warnings.simplefilter(action=\"ignore\", category=UserWarning)\n",
    "\n",
    "import pandas as pd\n",
    "import psycopg\n",
    "\n",
    "db = psycopg.connect(\"dbname=next host=localhost port=5432 user=postgres password=postgres\")\n",
    "\n",
    "factions = pd.read_sql_query(\"select * from open_discourse.factions\", db)\n",
    "print(factions)"
   ]
  },
  {
   "cell_type": "code",
   "execution_count": 2,
   "id": "b6c8c85e",
   "metadata": {},
   "outputs": [
    {
     "name": "stdout",
     "output_type": "stream",
     "text": [
      "   id  session  electoral_term first_name last_name  politician_id  \\\n",
      "0   0        2               1               Köhler       11001150   \n",
      "1   1        2               1               Arnold             -1   \n",
      "2   2        2               1               Köhler       11001150   \n",
      "3   3        2               1                Heuss             -1   \n",
      "4   4        2               1               Köhler       11001150   \n",
      "5   5        2               1                Heuss             -1   \n",
      "6   6        3               1               köhler       11001150   \n",
      "7   7        3               1             adenauer       11000009   \n",
      "8   8        3               1               köhler       11001150   \n",
      "9   9        4               1               köhler       11001150   \n",
      "\n",
      "                                      speech_content  faction_id  \\\n",
      "0  Meine Damen und Herren! Ich eröffne die 2. Sit...          -1   \n",
      "1    Der Bundesrat ist versammelt, Herr Präsident.\\n          -1   \n",
      "2  Ich danke für diese Erklärung. Ich stelle dami...          -1   \n",
      "3                         Ja, ich habe den Wunsch.\\n          -1   \n",
      "4  Ich erteile dem Herrn Bundespräsidenten das Wo...          -1   \n",
      "5  Verehrte Mitglieder des Bundestags, des Bundes...          -1   \n",
      "6  Meine Damen und Herren! Ich eröffne die 3. Sit...          -1   \n",
      "7                                              Ja.\\n           4   \n",
      "8  Der Herr Abgeordnete Dr. Adenauer hat erklärt,...          -1   \n",
      "9  Meine Damen und Herren! Ich eröffne die 4. Sit...          -1   \n",
      "\n",
      "                                        document_url           position_short  \\\n",
      "0  https://dip21.bundestag.de/dip21/btp/01/01002.pdf  Presidium of Parliament   \n",
      "1  https://dip21.bundestag.de/dip21/btp/01/01002.pdf                    Guest   \n",
      "2  https://dip21.bundestag.de/dip21/btp/01/01002.pdf  Presidium of Parliament   \n",
      "3  https://dip21.bundestag.de/dip21/btp/01/01002.pdf                    Guest   \n",
      "4  https://dip21.bundestag.de/dip21/btp/01/01002.pdf  Presidium of Parliament   \n",
      "5  https://dip21.bundestag.de/dip21/btp/01/01002.pdf                    Guest   \n",
      "6  https://dip21.bundestag.de/dip21/btp/01/01003.pdf  Presidium of Parliament   \n",
      "7  https://dip21.bundestag.de/dip21/btp/01/01003.pdf     Member of Parliament   \n",
      "8  https://dip21.bundestag.de/dip21/btp/01/01003.pdf  Presidium of Parliament   \n",
      "9  https://dip21.bundestag.de/dip21/btp/01/01004.pdf  Presidium of Parliament   \n",
      "\n",
      "              position_long        date  \\\n",
      "0                 präsident  1949-09-12   \n",
      "1  präsident des bundesrats  1949-09-12   \n",
      "2                 präsident  1949-09-12   \n",
      "3           bundespräsident  1949-09-12   \n",
      "4                 präsident  1949-09-12   \n",
      "5           bundespräsident  1949-09-12   \n",
      "6                 präsident  1949-09-15   \n",
      "7                      None  1949-09-15   \n",
      "8                 präsident  1949-09-15   \n",
      "9                 präsident  1949-09-15   \n",
      "\n",
      "                               search_speech_content  \n",
      "0  '2':8 '56':27,75 'amtsantritt':36 'artikel':26...  \n",
      "1  'bundesrat':2 'herr':5 'prasident':6 'versamme...  \n",
      "2  '0':105 'ansprach':132 'bitt':24,48 'bund':86 ...  \n",
      "3                                  'ja':1 'wunsch':5  \n",
      "4  'bundesprasident':5 'erteil':2 'herrn':4 'wort':7  \n",
      "5  '0':454 '1':597 '1918':1014,1031 '1949':1801 '...  \n",
      "6  '0':170 '1':25,204,451,695 '121':700 '142':666...  \n",
      "7                                             'ja':1  \n",
      "8  '12':70 '2':37,39 '30':72 '63':35 'abgeordnet'...  \n",
      "9  '0':60 '1':32,92,239 '10':244 '1851':320 '1875...  \n"
     ]
    }
   ],
   "source": [
    "speeches = pd.read_sql_query(\"select * from open_discourse.speeches limit 10\", db)\n",
    "print(speeches)"
   ]
  },
  {
   "cell_type": "code",
   "execution_count": 37,
   "id": "075cb84e",
   "metadata": {},
   "outputs": [
    {
     "name": "stdout",
     "output_type": "stream",
     "text": [
      "(39622, 4)\n",
      "                                      speech_content     faction  \\\n",
      "0  \\n\\nFrau Präsidentin! Sehr verehrte Damen und ...       Grüne   \n",
      "1  \\n\\nSehr geehrte Frau Barley, wir alle kennen ...     CDU/CSU   \n",
      "2  \\n\\nSehr geehrte Frau Ministerin, in Deutschla...         AfD   \n",
      "3  \\n\\nVielen Dank, Herr Präsident. – Frau Minist...         SPD   \n",
      "4  \\n\\nFrau Ministerin, danke schön für den Beric...  DIE LINKE.   \n",
      "\n",
      "   electoral_term  year  \n",
      "0              19  2018  \n",
      "1              19  2018  \n",
      "2              19  2018  \n",
      "3              19  2018  \n",
      "4              19  2018  \n"
     ]
    }
   ],
   "source": [
    "speeches = pd.read_sql_query(\"\"\"\n",
    "    SELECT speech_content, factions.abbreviation as faction, electoral_term, date_part('year', date)::int as year\n",
    "    FROM open_discourse.speeches\n",
    "    JOIN open_discourse.factions ON factions.id = speeches.faction_id\n",
    "    WHERE faction_id <> -1 AND faction_id <> 16\n",
    "    AND date_part('year', date)::int >= 2018\n",
    "    \"\"\", db)\n",
    "print(speeches.shape)\n",
    "print(speeches.head())"
   ]
  },
  {
   "cell_type": "code",
   "execution_count": 1,
   "id": "f6d0c36b",
   "metadata": {},
   "outputs": [
    {
     "ename": "ModuleNotFoundError",
     "evalue": "No module named 'sentence_transformers'",
     "output_type": "error",
     "traceback": [
      "\u001b[1;31m---------------------------------------------------------------------------\u001b[0m",
      "\u001b[1;31mModuleNotFoundError\u001b[0m                       Traceback (most recent call last)",
      "Cell \u001b[1;32mIn[1], line 2\u001b[0m\n\u001b[0;32m      1\u001b[0m \u001b[38;5;28;01mimport\u001b[39;00m \u001b[38;5;21;01mnumpy\u001b[39;00m \u001b[38;5;28;01mas\u001b[39;00m \u001b[38;5;21;01mnp\u001b[39;00m\n\u001b[1;32m----> 2\u001b[0m \u001b[38;5;28;01mfrom\u001b[39;00m \u001b[38;5;21;01msentence_transformers\u001b[39;00m \u001b[38;5;28;01mimport\u001b[39;00m SentenceTransformer\n\u001b[0;32m      3\u001b[0m \u001b[38;5;28;01mimport\u001b[39;00m \u001b[38;5;21;01mtorch\u001b[39;00m\n\u001b[0;32m      4\u001b[0m \u001b[38;5;28;01mimport\u001b[39;00m \u001b[38;5;21;01mumap\u001b[39;00m\n",
      "\u001b[1;31mModuleNotFoundError\u001b[0m: No module named 'sentence_transformers'"
     ]
    }
   ],
   "source": [
    "import numpy as np\n",
    "from sentence_transformers import SentenceTransformer\n",
    "import torch\n",
    "import umap\n",
    "\n",
    "# model = SentenceTransformer(\"deutsche-telekom/gbert-large-paraphrase-euclidean\") # Large model\n",
    "model = SentenceTransformer(\"paraphrase-multilingual-MiniLM-L12-v2\")\n",
    "print(f\"Model loaded on {model.device}\") # Device property doesn't work on 2.2.2"
   ]
  },
  {
   "cell_type": "code",
   "execution_count": 39,
   "id": "e5ed36e9",
   "metadata": {},
   "outputs": [
    {
     "name": "stdout",
     "output_type": "stream",
     "text": [
      "Encoded!\n"
     ]
    }
   ],
   "source": [
    "# Calculate embeddings for each speech\n",
    "embeddings = model.encode(speeches[\"speech_content\"].values, convert_to_numpy=True)\n",
    "print(\"Encoded!\")"
   ]
  },
  {
   "cell_type": "code",
   "execution_count": 40,
   "id": "f3ecaa16",
   "metadata": {},
   "outputs": [
    {
     "name": "stdout",
     "output_type": "stream",
     "text": [
      "dict_keys([('AfD', 2018), ('AfD', 2019), ('AfD', 2020), ('AfD', 2021), ('AfD', 2022), ('CDU/CSU', 2018), ('CDU/CSU', 2019), ('CDU/CSU', 2020), ('CDU/CSU', 2021), ('CDU/CSU', 2022), ('DIE LINKE.', 2018), ('DIE LINKE.', 2019), ('DIE LINKE.', 2020), ('DIE LINKE.', 2021), ('DIE LINKE.', 2022), ('FDP', 2018), ('FDP', 2019), ('FDP', 2020), ('FDP', 2021), ('FDP', 2022), ('Grüne', 2018), ('Grüne', 2019), ('Grüne', 2020), ('Grüne', 2021), ('Grüne', 2022), ('SPD', 2018), ('SPD', 2019), ('SPD', 2020), ('SPD', 2021), ('SPD', 2022)])\n",
      "[[ 8.947989   6.8634233]\n",
      " [ 9.082651   7.2987933]\n",
      " [ 8.964694   6.577037 ]\n",
      " [ 8.619042   7.066908 ]\n",
      " [ 9.064561   5.9580436]\n",
      " [11.262228   9.203364 ]\n",
      " [11.11751    9.587499 ]\n",
      " [11.783828   9.01787  ]\n",
      " [12.108774   8.832683 ]\n",
      " [13.272154   8.076985 ]\n",
      " [ 9.661822   6.962404 ]\n",
      " [ 9.526698   6.582972 ]\n",
      " [ 9.922502   6.274382 ]\n",
      " [10.441062   6.587478 ]\n",
      " [ 9.608896   5.792934 ]\n",
      " [10.111847   8.499026 ]\n",
      " [ 9.75857    8.168498 ]\n",
      " [11.11918    7.829951 ]\n",
      " [11.639595   7.6855755]\n",
      " [13.146005   7.798258 ]\n",
      " [ 9.975526   7.456973 ]\n",
      " [10.348583   7.6010957]\n",
      " [10.866923   7.099077 ]\n",
      " [11.19944    6.9281435]\n",
      " [12.789262   7.892674 ]\n",
      " [10.83295    8.917707 ]\n",
      " [10.639694   9.34371  ]\n",
      " [11.519486   8.444304 ]\n",
      " [12.075463   8.344718 ]\n",
      " [12.933712   8.425241 ]]\n"
     ]
    }
   ],
   "source": [
    "speech_indices_by_faction_and_year = speeches.groupby([\"faction\", \"year\"]).groups\n",
    "\n",
    "embedding_averages = {\n",
    "    faction_and_year: np.mean(embeddings[indices], axis=0)\n",
    "    for faction_and_year, indices in speech_indices_by_faction_and_year.items()\n",
    "}\n",
    "print(embedding_averages.keys())\n",
    "\n",
    "reduced_embeddings = umap.UMAP().fit_transform(list(embedding_averages.values()))\n",
    "print(reduced_embeddings)"
   ]
  },
  {
   "cell_type": "code",
   "execution_count": 41,
   "id": "c1c87d0d",
   "metadata": {},
   "outputs": [
    {
     "data": {
      "image/png": "[encoded data removed]",
      "text/plain": [
       "<Figure size 640x480 with 1 Axes>"
      ]
     },
     "metadata": {},
     "output_type": "display_data"
    }
   ],
   "source": [
    "import matplotlib.pyplot as plt\n",
    "\n",
    "colours = {\n",
    "    \"AfD\": \"#009ee0\",\n",
    "    \"CDU/CSU\": \"#1b191d\",\n",
    "    \"DIE LINKE.\": \"#be3075\",\n",
    "    \"PDS\": \"#be3075\",\n",
    "    \"FDP\": \"#ffed00\",\n",
    "    \"Grüne\": \"#56b45e\",\n",
    "    \"SPD\": \"#e30613\"\n",
    "}\n",
    "keys = list(embedding_averages.keys())\n",
    "\n",
    "scatter = plt.scatter(reduced_embeddings[:, 0], reduced_embeddings[:, 1], c=[colours[key[0]] for key in keys], s=10)\n",
    "\n",
    "for i, embedding in enumerate(reduced_embeddings):\n",
    "    plt.annotate(keys[i][1], (embedding[0], embedding[1] + 0.05), fontsize=\"xx-small\")\n",
    "#plt.legend(*scatter.legend_elements())\n",
    "plt.show()\n",
    "\n",
    "#import umap.plot\n",
    "\n",
    "#faction_labels = pd.DataFrame({\"factions\": [f'{key[0]} {key[1]}' for key in embedding_averages.keys()]})[\"factions\"]\n",
    "#umap.plot.points(reducer, labels=faction_labels)"
   ]
  },
  {
   "cell_type": "code",
   "execution_count": 43,
   "id": "1cb1b244",
   "metadata": {},
   "outputs": [
    {
     "data": {
      "image/png": "[encoded data removed]",
      "text/plain": [
       "<Figure size 640x480 with 1 Axes>"
      ]
     },
     "metadata": {},
     "output_type": "display_data"
    }
   ],
   "source": [
    "# Experiment with PCA instead of UMAP for dimensionality reduction\n",
    "\n",
    "from sklearn.decomposition import PCA\n",
    "\n",
    "pca = PCA(n_components=2)\n",
    "pca.fit(np.array(list(embedding_averages.values())).T)\n",
    "reduced_embeddings = np.asarray(pca.components_).T\n",
    "\n",
    "scatter = plt.scatter(reduced_embeddings[:, 0], reduced_embeddings[:, 1], c=[colours[key[0]] for key in keys], s=10)\n",
    "\n",
    "for i, embedding in enumerate(reduced_embeddings):\n",
    "    plt.annotate(keys[i][1], (embedding[0], embedding[1] + 0.01), fontsize=\"xx-small\")\n",
    "#plt.legend(*scatter.legend_elements())\n",
    "plt.show()"
   ]
  },
  {
   "cell_type": "code",
   "execution_count": 44,
   "id": "a36af824",
   "metadata": {},
   "outputs": [
    {
     "name": "stdout",
     "output_type": "stream",
     "text": [
      "(377718, 4)\n",
      "                                      speech_content  faction  electoral_term  \\\n",
      "0                                              Ja.\\n  CDU/CSU               1   \n",
      "1  Herr Präsident, meine Damen und Herren! Es ist...      FDP               1   \n",
      "2  Meine Damen und Herren, ich habe den Eindruck,...      SPD               1   \n",
      "3  Meine Damen und Herren! Die Erklärung der Bund...      SPD               1   \n",
      "4  Ich würde, Herr Präsident, mit Ihrer Erlaubnis...      SPD               1   \n",
      "\n",
      "   year  \n",
      "0  1949  \n",
      "1  1949  \n",
      "2  1949  \n",
      "3  1949  \n",
      "4  1949  \n"
     ]
    }
   ],
   "source": [
    "speeches = pd.read_sql_query(\"\"\"\n",
    "    SELECT speech_content, factions.abbreviation as faction, electoral_term, date_part('year', date)::int as year\n",
    "    FROM open_discourse.speeches\n",
    "    JOIN open_discourse.factions ON factions.id = speeches.faction_id\n",
    "    WHERE factions.abbreviation IN ('AfD', 'CDU/CSU', 'DIE LINKE.', 'FDP', 'Grüne', 'PDS', 'SPD')\n",
    "    \"\"\", db)\n",
    "print(speeches.shape)\n",
    "print(speeches.head())"
   ]
  },
  {
   "cell_type": "code",
   "execution_count": null,
   "id": "ad7b1c72",
   "metadata": {},
   "outputs": [],
   "source": []
  }
 ],
 "metadata": {
  "kernelspec": {
   "display_name": "Python 3 (ipykernel)",
   "language": "python",
   "name": "python3"
  },
  "language_info": {
   "codemirror_mode": {
    "name": "ipython",
    "version": 3
   },
   "file_extension": ".py",
   "mimetype": "text/x-python",
   "name": "python",
   "nbconvert_exporter": "python",
   "pygments_lexer": "ipython3",
   "version": "3.11.5"
  }
 },
 "nbformat": 4,
 "nbformat_minor": 5
}
