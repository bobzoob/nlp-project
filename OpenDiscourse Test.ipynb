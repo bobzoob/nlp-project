{
 "cells": [
  {
   "cell_type": "code",
   "execution_count": null,
   "id": "5362f454",
   "metadata": {},
   "outputs": [],
   "source": [
    "import warnings\n",
    "warnings.simplefilter(action=\"ignore\", category=UserWarning)\n",
    "\n",
    "import pandas as pd\n",
    "import psycopg\n",
    "\n",
    "db = psycopg.connect(\"dbname=next host=localhost port=5432 user=postgres password=postgres\")\n",
    "\n",
    "factions = pd.read_sql_query(\"select * from open_discourse.factions\", db)\n",
    "print(factions)"
   ]
  },
  {
   "cell_type": "code",
   "execution_count": null,
   "id": "b6c8c85e",
   "metadata": {},
   "outputs": [],
   "source": [
    "speeches = pd.read_sql_query(\"select * from open_discourse.speeches limit 10\", db)\n",
    "print(speeches.head())"
   ]
  },
  {
   "cell_type": "code",
   "execution_count": null,
   "id": "075cb84e",
   "metadata": {},
   "outputs": [],
   "source": [
    "speeches = pd.read_sql_query(\"\"\"\n",
    "    SELECT speech_content, factions.abbreviation as faction, electoral_term, date_part('year', date)::int as year\n",
    "    FROM open_discourse.speeches\n",
    "    JOIN open_discourse.factions ON factions.id = speeches.faction_id\n",
    "    WHERE faction_id <> -1 AND faction_id <> 16\n",
    "    AND date_part('year', date)::int >= 2018\n",
    "    \"\"\", db)\n",
    "print(speeches.shape)\n",
    "print(speeches.head())"
   ]
  },
  {
   "cell_type": "code",
   "execution_count": null,
   "id": "f6d0c36b",
   "metadata": {},
   "outputs": [],
   "source": [
    "import numpy as np\n",
    "from sentence_transformers import SentenceTransformer\n",
    "import torch\n",
    "import umap\n",
    "\n",
    "# model = SentenceTransformer(\"deutsche-telekom/gbert-large-paraphrase-euclidean\") # Large model\n",
    "model = SentenceTransformer(\"paraphrase-multilingual-MiniLM-L12-v2\")\n",
    "print(f\"Model loaded on {model.device}\")"
   ]
  },
  {
   "cell_type": "code",
   "execution_count": null,
   "id": "e5ed36e9",
   "metadata": {},
   "outputs": [],
   "source": [
    "# Calculate embeddings for each speech\n",
    "embeddings = model.encode(speeches[\"speech_content\"].values, convert_to_numpy=True)\n",
    "print(\"Encoded!\")"
   ]
  },
  {
   "cell_type": "markdown",
   "id": "277a1b2f",
   "metadata": {},
   "source": [
    "# Numeric Distance to AfD"
   ]
  },
  {
   "cell_type": "code",
   "execution_count": null,
   "id": "f3ecaa16",
   "metadata": {},
   "outputs": [],
   "source": [
    "from sentence_transformers.util import cos_sim\n",
    "\n",
    "speech_indices_by_faction = speeches.groupby([\"faction\"]).groups\n",
    "\n",
    "embedding_averages = {\n",
    "    faction: np.mean(embeddings[indices], axis=0)\n",
    "    for faction, indices in speech_indices_by_faction.items()\n",
    "}\n",
    "afd_average = embedding_averages[\"AfD\"]\n",
    "similarities_to_afd = {\n",
    "    faction: cos_sim(average, afd_average).item()\n",
    "    for faction, average in embedding_averages.items() if faction != \"AfD\"\n",
    "}\n",
    "print(dict(sorted(similarities_to_afd.items(), key=lambda item: item[1], reverse=True)))"
   ]
  },
  {
   "cell_type": "code",
   "execution_count": null,
   "id": "c97a3407",
   "metadata": {},
   "outputs": [],
   "source": [
    "speech_indices_by_faction_and_year = speeches.groupby([\"faction\", \"year\"]).groups\n",
    "\n",
    "embedding_averages = {\n",
    "    faction_and_year: np.mean(embeddings[indices], axis=0)\n",
    "    for faction_and_year, indices in speech_indices_by_faction_and_year.items()\n",
    "}\n",
    "print(embedding_averages.keys())\n",
    "\n",
    "year_range = range(2018, 2023)\n",
    "factions = [\"AfD\", \"CDU/CSU\", \"DIE LINKE.\", \"FDP\", \"Grüne\", \"SPD\"]\n",
    "\n",
    "yearly_similarities_to_afd = {\n",
    "    faction: [cos_sim(embedding_averages[faction, year], embedding_averages[\"AfD\", year]).item() for year in year_range]\n",
    "    for faction in factions if faction != \"AfD\"\n",
    "}\n",
    "print(yearly_similarities_to_afd)\n",
    "\n",
    "import matplotlib.pyplot as plt\n",
    "from matplotlib.lines import Line2D\n",
    "\n",
    "colours = {\n",
    "    \"AfD\": \"#009ee0\",\n",
    "    \"CDU/CSU\": \"#1b191d\",\n",
    "    \"DIE LINKE.\": \"#be3075\",\n",
    "    \"PDS\": \"#be3075\",\n",
    "    \"FDP\": \"#ffed00\",\n",
    "    \"Grüne\": \"#56b45e\",\n",
    "    \"SPD\": \"#e30613\"\n",
    "}\n",
    "\n",
    "for faction, averages in yearly_similarities_to_afd.items():\n",
    "    plt.plot(year_range, averages, c=colours[faction], label=faction)\n",
    "\n",
    "plt.xticks(year_range)\n",
    "plt.ylim(0.97, 1)\n",
    "plt.legend()\n",
    "plt.savefig(\"output/similarity_to_afd.svg\", bbox_inches=\"tight\")"
   ]
  },
  {
   "cell_type": "markdown",
   "id": "94fa097c",
   "metadata": {},
   "source": [
    "# UMAP Chart"
   ]
  },
  {
   "cell_type": "code",
   "execution_count": null,
   "id": "40fc637d",
   "metadata": {},
   "outputs": [],
   "source": [
    "reduced_embeddings = umap.UMAP(metric=\"cosine\", n_neighbors=50, random_state=5).fit_transform(list(embedding_averages.values()))\n",
    "print(reduced_embeddings)"
   ]
  },
  {
   "cell_type": "code",
   "execution_count": null,
   "id": "c1c87d0d",
   "metadata": {},
   "outputs": [],
   "source": [
    "keys = list(embedding_averages.keys())\n",
    "\n",
    "scatter = plt.scatter(reduced_embeddings[:, 0], reduced_embeddings[:, 1], c=[colours[key[0]] for key in keys], s=10)\n",
    "\n",
    "for i, embedding in enumerate(reduced_embeddings):\n",
    "    plt.annotate(keys[i][1], (embedding[0], embedding[1] + 0.05), fontsize=\"xx-small\")\n",
    "    \n",
    "plt.legend(handles=[\n",
    "    Line2D([0], [0], marker='o', color='w', label=fraction, markerfacecolor=colour, markersize=8)\n",
    "    for fraction, colour in colours.items() if fraction != \"PDS\"\n",
    "], bbox_to_anchor=(1.3, 1))\n",
    "plt.savefig(\"output/last_term.svg\", bbox_inches=\"tight\")"
   ]
  },
  {
   "cell_type": "code",
   "execution_count": null,
   "id": "1cb1b244",
   "metadata": {},
   "outputs": [],
   "source": [
    "# Experiment with PCA instead of UMAP for dimensionality reduction\n",
    "\n",
    "from sklearn.decomposition import PCA\n",
    "\n",
    "pca = PCA(n_components=2)\n",
    "pca.fit(np.array(list(embedding_averages.values())).T)\n",
    "reduced_embeddings = np.asarray(pca.components_).T\n",
    "\n",
    "scatter = plt.scatter(reduced_embeddings[:, 0], reduced_embeddings[:, 1], c=[colours[key[0]] for key in keys], s=10)\n",
    "\n",
    "for i, embedding in enumerate(reduced_embeddings):\n",
    "    plt.annotate(keys[i][1], (embedding[0], embedding[1] + 0.01), fontsize=\"xx-small\")\n",
    "\n",
    "plt.legend(handles=[\n",
    "    Line2D([0], [0], marker='o', color='w', label=fraction, markerfacecolor=colour, markersize=8)\n",
    "    for fraction, colour in colours.items() if fraction != \"PDS\"\n",
    "], bbox_to_anchor=(1.3, 1))\n",
    "plt.show()"
   ]
  },
  {
   "cell_type": "code",
   "execution_count": null,
   "id": "8f6de3a1",
   "metadata": {},
   "outputs": [],
   "source": [
    "print(pca.components_)"
   ]
  },
  {
   "cell_type": "markdown",
   "id": "fab2a31a",
   "metadata": {},
   "source": [
    "# All-time Embeddings"
   ]
  },
  {
   "cell_type": "code",
   "execution_count": null,
   "id": "c2904a62",
   "metadata": {},
   "outputs": [],
   "source": [
    "speeches = pd.read_sql_query(\"\"\"\n",
    "    SELECT speech_content, factions.abbreviation as faction, electoral_term, date_part('year', date)::int as year\n",
    "    FROM open_discourse.speeches\n",
    "    JOIN open_discourse.factions ON factions.id = speeches.faction_id\n",
    "    WHERE factions.abbreviation IN ('AfD', 'CDU/CSU', 'DIE LINKE.', 'PDS', 'FDP', 'Grüne', 'SPD')\n",
    "    \"\"\", db)\n",
    "print(speeches.shape)\n",
    "print(speeches.head())"
   ]
  },
  {
   "cell_type": "code",
   "execution_count": null,
   "id": "cdf5912c",
   "metadata": {},
   "outputs": [],
   "source": [
    "embeddings = model.encode(speeches[\"speech_content\"].values, convert_to_numpy=True)\n",
    "print(\"Encoded!\")"
   ]
  },
  {
   "cell_type": "code",
   "execution_count": null,
   "id": "30bbd31a",
   "metadata": {},
   "outputs": [],
   "source": [
    "speech_indices_by_faction_and_term = speeches.groupby([\"faction\", \"electoral_term\"]).groups\n",
    "\n",
    "embedding_averages = {\n",
    "    faction_and_term: np.mean(embeddings[indices], axis=0)\n",
    "    for faction_and_term, indices in speech_indices_by_faction_and_term.items()\n",
    "}\n",
    "\n",
    "reduced_embeddings = umap.UMAP(metric=\"cosine\", n_neighbors=50, random_state=13).fit_transform(list(embedding_averages.values()))\n",
    "\n",
    "keys = list(embedding_averages.keys())\n",
    "scatter = plt.scatter(reduced_embeddings[:, 0], reduced_embeddings[:, 1], c=[colours[key[0]] for key in keys], s=10)\n",
    "\n",
    "for i, embedding in enumerate(reduced_embeddings):\n",
    "    plt.annotate(keys[i][1], (embedding[0] + 0.02, embedding[1] + 0.05), fontsize=\"xx-small\")\n",
    "    \n",
    "plt.legend(handles=[\n",
    "    Line2D([0], [0], marker='o', color='w', label=fraction, markerfacecolor=colour, markersize=8)\n",
    "    for fraction, colour in colours.items() if fraction != \"PDS\"\n",
    "], loc=\"upper left\")\n",
    "plt.savefig(\"output/all_terms_factions.svg\")"
   ]
  },
  {
   "cell_type": "code",
   "execution_count": null,
   "id": "fff1ccd5",
   "metadata": {},
   "outputs": [],
   "source": [
    "def is_governing(faction, term):\n",
    "    governments_by_term = {\n",
    "        1: [\"CDU/CSU\", \"FDP\"],\n",
    "        2: [\"CDU/CSU\", \"FDP\"],\n",
    "        3: [\"CDU/CSU\"],\n",
    "        4: [\"CDU/CSU\", \"FDP\"],\n",
    "        5: [\"CDU/CSU\", \"FDP\", \"SPD\"],\n",
    "        6: [\"SPD\", \"FDP\"],\n",
    "        7: [\"SPD\", \"FDP\"],\n",
    "        8: [\"SPD\", \"FDP\"],\n",
    "        9: [\"SPD\", \"FDP\", \"CDU/CSU\"],\n",
    "        10: [\"CDU/CSU\", \"FDP\"],\n",
    "        11: [\"CDU/CSU\", \"FDP\"],\n",
    "        12: [\"CDU/CSU\", \"FDP\"],\n",
    "        13: [\"CDU/CSU\", \"FDP\"],\n",
    "        14: [\"SPD\", \"Grüne\"],\n",
    "        15: [\"SPD\", \"Grüne\"],\n",
    "        16: [\"CDU/CSU\", \"SPD\"],\n",
    "        17: [\"CDU/CSU\", \"FDP\"],\n",
    "        18: [\"CDU/CSU\", \"SPD\"],\n",
    "        19: [\"CDU/CSU\", \"SPD\"],\n",
    "        20: [\"SPD\", \"Grüne\", \"FDP\"]\n",
    "    }\n",
    "    return faction in governments_by_term[term]\n",
    "\n",
    "def faction_color(key):\n",
    "    return \"green\" if is_governing(key[0], key[1]) else \"red\"\n",
    "\n",
    "scatter = plt.scatter(reduced_embeddings[:, 0], reduced_embeddings[:, 1], c=[faction_color(key) for key in keys], s=10)\n",
    "\n",
    "for i, embedding in enumerate(reduced_embeddings):\n",
    "    plt.annotate(keys[i][1], (embedding[0] + 0.02, embedding[1] + 0.05), fontsize=\"xx-small\")\n",
    "    \n",
    "plt.legend(handles=[\n",
    "    Line2D([0], [0], marker='o', color='w', label=\"Regierung\", markerfacecolor=\"green\", markersize=8),\n",
    "    Line2D([0], [0], marker='o', color='w', label=\"Opposition\", markerfacecolor=\"red\", markersize=8)\n",
    "], loc=\"upper left\")\n",
    "plt.savefig(\"output/all_terms_governments.svg\")"
   ]
  },
  {
   "cell_type": "code",
   "execution_count": null,
   "id": "52ed8e48",
   "metadata": {},
   "outputs": [],
   "source": []
  }
 ],
 "metadata": {
  "language_info": {
   "name": "python"
  }
 },
 "nbformat": 4,
 "nbformat_minor": 5
}
