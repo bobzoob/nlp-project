{
 "cells": [
  {
   "cell_type": "code",
   "execution_count": 2,
   "id": "5362f454",
   "metadata": {},
   "outputs": [
    {
     "name": "stdout",
     "output_type": "stream",
     "text": [
      "    id  abbreviation                                          full_name\n",
      "0   -1     not found                                          not found\n",
      "1    0           AfD                        Alternative für Deutschland\n",
      "2    1           BHE      Block der Heimatvertriebenen und Entrechteten\n",
      "3    2            BP                                       Bayernpartei\n",
      "4    3         Grüne                              Bündnis 90/Die Grünen\n",
      "5    4       CDU/CSU  Christlich Demokratische Union Deutschlands/Ch...\n",
      "6    5            DA                  Demokratische Arbeitsgemeinschaft\n",
      "7    6    DIE LINKE.                                         DIE LINKE.\n",
      "8    7            DP                                    Deutsche Partei\n",
      "9    8        DP/DBP             Deutsche Partei/Deutsche Partei Bayern\n",
      "10   9        DP/FVP                  Deutsche Partei/Freie Volkspartei\n",
      "11  10           DPB                             Deutsche Partei Bayern\n",
      "12  11           DRP                              Deutsche Reformpartei\n",
      "13  12        DRP/NR             Deutsche Reichspartei/Nationale Rechte\n",
      "14  13           FDP                         Freie Demokratische Partei\n",
      "15  14            FU                              Föderalistische Union\n",
      "16  15           FVP                                  Freie Volkspartei\n",
      "17  16  Fraktionslos                                       Fraktionslos\n",
      "18  17        GB/BHE  Gesamtdeutscher Block/Bund der Heimatvertriebe...\n",
      "19  18          Gast                                               Gast\n",
      "20  19            KO                            Kraft/Oberländer-Gruppe\n",
      "21  20           KPD                 Kommunistische Partei Deutschlands\n",
      "22  21            NR                                   Nationale Rechte\n",
      "23  22           PDS              Partei des Demokratischen Sozialismus\n",
      "24  23           SPD            Sozialdemokratische Partei Deutschlands\n",
      "25  24           SSW                    Südschleswigscher Wählerverband\n",
      "26  25           WAV                 Wirtschaftliche Aufbau-Vereinigung\n",
      "27  26             Z                            Deutsche Zentrumspartei\n"
     ]
    }
   ],
   "source": [
    "import warnings\n",
    "warnings.simplefilter(action=\"ignore\", category=UserWarning)\n",
    "\n",
    "import pandas as pd\n",
    "import psycopg\n",
    "\n",
    "db = psycopg.connect(\"dbname=next host=localhost port=5432 user=postgres password=postgres\")\n",
    "\n",
    "factions = pd.read_sql_query(\"select * from open_discourse.factions\", db)\n",
    "print(factions)"
   ]
  },
  {
   "cell_type": "code",
   "execution_count": 3,
   "id": "b6c8c85e",
   "metadata": {},
   "outputs": [
    {
     "name": "stdout",
     "output_type": "stream",
     "text": [
      "   id  session  electoral_term first_name last_name  politician_id  \\\n",
      "0   0        2               1               Köhler       11001150   \n",
      "1   1        2               1               Arnold             -1   \n",
      "2   2        2               1               Köhler       11001150   \n",
      "3   3        2               1                Heuss             -1   \n",
      "4   4        2               1               Köhler       11001150   \n",
      "5   5        2               1                Heuss             -1   \n",
      "6   6        3               1               köhler       11001150   \n",
      "7   7        3               1             adenauer       11000009   \n",
      "8   8        3               1               köhler       11001150   \n",
      "9   9        4               1               köhler       11001150   \n",
      "\n",
      "                                      speech_content  faction_id  \\\n",
      "0  Meine Damen und Herren! Ich eröffne die 2. Sit...          -1   \n",
      "1    Der Bundesrat ist versammelt, Herr Präsident.\\n          -1   \n",
      "2  Ich danke für diese Erklärung. Ich stelle dami...          -1   \n",
      "3                         Ja, ich habe den Wunsch.\\n          -1   \n",
      "4  Ich erteile dem Herrn Bundespräsidenten das Wo...          -1   \n",
      "5  Verehrte Mitglieder des Bundestags, des Bundes...          -1   \n",
      "6  Meine Damen und Herren! Ich eröffne die 3. Sit...          -1   \n",
      "7                                              Ja.\\n           4   \n",
      "8  Der Herr Abgeordnete Dr. Adenauer hat erklärt,...          -1   \n",
      "9  Meine Damen und Herren! Ich eröffne die 4. Sit...          -1   \n",
      "\n",
      "                                        document_url           position_short  \\\n",
      "0  https://dip21.bundestag.de/dip21/btp/01/01002.pdf  Presidium of Parliament   \n",
      "1  https://dip21.bundestag.de/dip21/btp/01/01002.pdf                    Guest   \n",
      "2  https://dip21.bundestag.de/dip21/btp/01/01002.pdf  Presidium of Parliament   \n",
      "3  https://dip21.bundestag.de/dip21/btp/01/01002.pdf                    Guest   \n",
      "4  https://dip21.bundestag.de/dip21/btp/01/01002.pdf  Presidium of Parliament   \n",
      "5  https://dip21.bundestag.de/dip21/btp/01/01002.pdf                    Guest   \n",
      "6  https://dip21.bundestag.de/dip21/btp/01/01003.pdf  Presidium of Parliament   \n",
      "7  https://dip21.bundestag.de/dip21/btp/01/01003.pdf     Member of Parliament   \n",
      "8  https://dip21.bundestag.de/dip21/btp/01/01003.pdf  Presidium of Parliament   \n",
      "9  https://dip21.bundestag.de/dip21/btp/01/01004.pdf  Presidium of Parliament   \n",
      "\n",
      "              position_long        date  \\\n",
      "0                 präsident  1949-09-12   \n",
      "1  präsident des bundesrats  1949-09-12   \n",
      "2                 präsident  1949-09-12   \n",
      "3           bundespräsident  1949-09-12   \n",
      "4                 präsident  1949-09-12   \n",
      "5           bundespräsident  1949-09-12   \n",
      "6                 präsident  1949-09-15   \n",
      "7                      None  1949-09-15   \n",
      "8                 präsident  1949-09-15   \n",
      "9                 präsident  1949-09-15   \n",
      "\n",
      "                               search_speech_content  \n",
      "0  '2':8 '56':27,75 'amtsantritt':36 'artikel':26...  \n",
      "1  'bundesrat':2 'herr':5 'prasident':6 'versamme...  \n",
      "2  '0':105 'ansprach':132 'bitt':24,48 'bund':86 ...  \n",
      "3                                  'ja':1 'wunsch':5  \n",
      "4  'bundesprasident':5 'erteil':2 'herrn':4 'wort':7  \n",
      "5  '0':454 '1':597 '1918':1014,1031 '1949':1801 '...  \n",
      "6  '0':170 '1':25,204,451,695 '121':700 '142':666...  \n",
      "7                                             'ja':1  \n",
      "8  '12':70 '2':37,39 '30':72 '63':35 'abgeordnet'...  \n",
      "9  '0':60 '1':32,92,239 '10':244 '1851':320 '1875...  \n"
     ]
    }
   ],
   "source": [
    "speeches = pd.read_sql_query(\"select * from open_discourse.speeches limit 10\", db)\n",
    "print(speeches)"
   ]
  },
  {
   "cell_type": "code",
   "execution_count": 4,
   "id": "075cb84e",
   "metadata": {},
   "outputs": [
    {
     "name": "stdout",
     "output_type": "stream",
     "text": [
      "                                      speech_content abbreviation  \\\n",
      "0                                              Ja.\\n      CDU/CSU   \n",
      "1  Herr Präsident, meine Damen und Herren! Es ist...          FDP   \n",
      "2  Meine Damen und Herren, ich habe den Eindruck,...          SPD   \n",
      "3  Meine Damen und Herren! In der gestrigen Sitzu...          KPD   \n",
      "4  Ich habe wohl das Recht, auf diese Ihre Meinun...          KPD   \n",
      "\n",
      "   electoral_term        date  \n",
      "0               1  1949-09-15  \n",
      "1               1  1949-09-15  \n",
      "2               1  1949-09-15  \n",
      "3               1  1949-09-15  \n",
      "4               1  1949-09-15  \n"
     ]
    }
   ],
   "source": [
    "speeches = pd.read_sql_query(\"\"\"\n",
    "    SELECT speech_content, factions.abbreviation, electoral_term, date\n",
    "    FROM open_discourse.speeches\n",
    "    JOIN open_discourse.factions ON factions.id = speeches.faction_id\n",
    "    WHERE faction_id <> -1\n",
    "    \"\"\", db)\n",
    "print(speeches.head())"
   ]
  },
  {
   "cell_type": "code",
   "execution_count": 7,
   "id": "f6d0c36b",
   "metadata": {},
   "outputs": [
    {
     "name": "stdout",
     "output_type": "stream",
     "text": [
      "done\n"
     ]
    }
   ],
   "source": [
    "from sentence_transformers import SentenceTransformer\n",
    "import umap\n",
    "\n",
    "model = SentenceTransformer(\"deutsche-telekom/gbert-large-paraphrase-euclidean\")\n",
    "print(\"done\")"
   ]
  },
  {
   "cell_type": "code",
   "execution_count": 9,
   "id": "e5ed36e9",
   "metadata": {},
   "outputs": [
    {
     "name": "stdout",
     "output_type": "stream",
     "text": [
      "UMAP(tqdm_kwds={'bar_format': '{desc}: {percentage:3.0f}%| {bar} {n_fmt}/{total_fmt} [{elapsed}]', 'desc': 'Epochs completed', 'disable': True})\n"
     ]
    }
   ],
   "source": [
    "speeches = speeches.head(10) # TEMP!\n",
    "embeddings = model.encode(speeches[\"speech_content\"].values)\n",
    "reduced_embeddings = umap.UMAP().fit(embeddings)\n",
    "\n",
    "print(reduced_embeddings)"
   ]
  },
  {
   "cell_type": "code",
   "execution_count": 11,
   "id": "c1c87d0d",
   "metadata": {},
   "outputs": [
    {
     "data": {
      "text/plain": [
       "<Axes: >"
      ]
     },
     "execution_count": 11,
     "metadata": {},
     "output_type": "execute_result"
    },
    {
     "data": {
      "image/png": "[encoded data removed]",
      "text/plain": [
       "<Figure size 800x800 with 1 Axes>"
      ]
     },
     "metadata": {},
     "output_type": "display_data"
    }
   ],
   "source": [
    "import umap.plot\n",
    "\n",
    "umap.plot.points(reduced_embeddings, labels=speeches[\"abbreviation\"])"
   ]
  },
  {
   "cell_type": "code",
   "execution_count": null,
   "id": "1cb1b244",
   "metadata": {},
   "outputs": [],
   "source": []
  }
 ],
 "metadata": {
  "kernelspec": {
   "display_name": "Python 3 (ipykernel)",
   "language": "python",
   "name": "python3"
  },
  "language_info": {
   "codemirror_mode": {
    "name": "ipython",
    "version": 3
   },
   "file_extension": ".py",
   "mimetype": "text/x-python",
   "name": "python",
   "nbconvert_exporter": "python",
   "pygments_lexer": "ipython3",
   "version": "3.11.5"
  }
 },
 "nbformat": 4,
 "nbformat_minor": 5
}
