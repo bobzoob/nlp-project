{
 "cells": [
  {
   "cell_type": "code",
   "execution_count": 2,
   "id": "dd03022a",
   "metadata": {},
   "outputs": [],
   "source": [
    "import pandas as pd # pandas hilft, Daten in tabellarischer Form besser zu verarbeiten"
   ]
  },
  {
   "cell_type": "code",
   "execution_count": 3,
   "id": "72e9bdb3",
   "metadata": {},
   "outputs": [],
   "source": [
    "import spacy"
   ]
  },
  {
   "cell_type": "code",
   "execution_count": 4,
   "id": "eeb3a263",
   "metadata": {},
   "outputs": [],
   "source": [
    "from spacy.matcher import Matcher"
   ]
  },
  {
   "cell_type": "code",
   "execution_count": 5,
   "id": "5f2a93ff",
   "metadata": {},
   "outputs": [],
   "source": [
    "nlp = spacy.load(\"de_core_news_sm\")"
   ]
  },
  {
   "cell_type": "code",
   "execution_count": 13,
   "id": "d07022e5",
   "metadata": {},
   "outputs": [],
   "source": [
    "# um später 500 Reden verarbeiten zu können, muss die Speicherkapazität erhöht werden\n",
    "\n",
    "nlp.max_length = 1500000"
   ]
  },
  {
   "cell_type": "code",
   "execution_count": 6,
   "id": "8b4173d0",
   "metadata": {},
   "outputs": [],
   "source": [
    "with open (\"speeches.csv\", \"r\", encoding=\"UTF-8\") as f:\n",
    "    text = f.read()"
   ]
  },
  {
   "cell_type": "code",
   "execution_count": 7,
   "id": "8cc1d1ec",
   "metadata": {},
   "outputs": [],
   "source": [
    "opendiscourse = pd.read_csv(\"speeches.csv\")"
   ]
  },
  {
   "cell_type": "code",
   "execution_count": 8,
   "id": "5138cc98",
   "metadata": {},
   "outputs": [
    {
     "name": "stdout",
     "output_type": "stream",
     "text": [
      "907644\n"
     ]
    }
   ],
   "source": [
    "print(len(opendiscourse))"
   ]
  },
  {
   "cell_type": "code",
   "execution_count": 9,
   "id": "add67b73",
   "metadata": {},
   "outputs": [
    {
     "name": "stdout",
     "output_type": "stream",
     "text": [
      "             id  session  electoralTerm            firstName      lastName  \\\n",
      "846693  1000004        1             19                Bernd       Baumann   \n",
      "846728  1000038        2             19                Bernd       Baumann   \n",
      "846738  1000050        2             19             Jan Ralf         Nolte   \n",
      "846757  1000068        2             19              Norbert  Kleinwächter   \n",
      "846780  1000091        2             19  Eberhardt Alexander       Gauland   \n",
      "...         ...      ...            ...                  ...           ...   \n",
      "907560  1060872      228             19              Rüdiger      Lucassen   \n",
      "907589  1060902      228             19                 Götz      Frömming   \n",
      "907592  1060904      228             19                 Götz      Frömming   \n",
      "907610  1060923      228             19                Joana         Cotar   \n",
      "907629  1060943      228             19            Gottfried         Curio   \n",
      "\n",
      "        politicianId                                      speechContent  \\\n",
      "846693      11004662  \\n\\nHerr Präsident! Meine Damen und Herren! Im...   \n",
      "846728      11004662  \\n\\nHerr Präsident! Meine Damen und Herren! Wi...   \n",
      "846738      11004842  \\n\\nSehr geehrter Herr Präsident! Sehr geehrte...   \n",
      "846757      11004781  \\n\\nHerr Präsident! Werte Kollegen! Dieser Ein...   \n",
      "846780      11004724  \\n\\nHerr Präsident! Meine Damen und Herren!\\n\\...   \n",
      "...              ...                                                ...   \n",
      "907560      11004807  \\n\\nFrau Präsidentin! Meine Damen und Herren! ...   \n",
      "907589      11004722  \\n\\nSehr geehrte Frau Präsidentin! Sehr geehrt...   \n",
      "907592      11004722  \\n\\nWir meinen, auch hier sollten wir aus den ...   \n",
      "907610      11004696  \\n\\nFrau Präsidentin! Werte Kollegen! Es steht...   \n",
      "907629      11004698  \\n\\nSehr geehrte Frau Präsidentin! Meine Damen...   \n",
      "\n",
      "        factionId                                        documentUrl  \\\n",
      "846693          0  https://dip21.bundestag.de/dip21/btp/19/19001.pdf   \n",
      "846728          0  https://dip21.bundestag.de/dip21/btp/19/19002.pdf   \n",
      "846738          0  https://dip21.bundestag.de/dip21/btp/19/19002.pdf   \n",
      "846757          0  https://dip21.bundestag.de/dip21/btp/19/19002.pdf   \n",
      "846780          0  https://dip21.bundestag.de/dip21/btp/19/19002.pdf   \n",
      "...           ...                                                ...   \n",
      "907560          0  https://dip21.bundestag.de/dip21/btp/19/19228.pdf   \n",
      "907589          0  https://dip21.bundestag.de/dip21/btp/19/19228.pdf   \n",
      "907592          0  https://dip21.bundestag.de/dip21/btp/19/19228.pdf   \n",
      "907610          0  https://dip21.bundestag.de/dip21/btp/19/19228.pdf   \n",
      "907629          0  https://dip21.bundestag.de/dip21/btp/19/19228.pdf   \n",
      "\n",
      "               positionShort positionLong        date  \n",
      "846693  Member of Parliament          NaN  2017-10-24  \n",
      "846728  Member of Parliament          NaN  2017-11-21  \n",
      "846738  Member of Parliament          NaN  2017-11-21  \n",
      "846757  Member of Parliament          NaN  2017-11-21  \n",
      "846780  Member of Parliament          NaN  2017-11-21  \n",
      "...                      ...          ...         ...  \n",
      "907560  Member of Parliament          NaN  2021-05-07  \n",
      "907589  Member of Parliament          NaN  2021-05-07  \n",
      "907592  Member of Parliament          NaN  2021-05-07  \n",
      "907610  Member of Parliament          NaN  2021-05-07  \n",
      "907629  Member of Parliament          NaN  2021-05-07  \n",
      "\n",
      "[4437 rows x 12 columns]\n"
     ]
    }
   ],
   "source": [
    "# alle Reden der AfD extrahieren, um nur mit diesen weiter zu arbeiten:\n",
    "\n",
    "afd = opendiscourse.query('factionId == 0')\n",
    "print(afd)"
   ]
  },
  {
   "cell_type": "code",
   "execution_count": 10,
   "id": "0496c2c0",
   "metadata": {},
   "outputs": [
    {
     "name": "stdout",
     "output_type": "stream",
     "text": [
      "4437\n"
     ]
    }
   ],
   "source": [
    "print(len(afd))"
   ]
  },
  {
   "cell_type": "code",
   "execution_count": 11,
   "id": "516e1afc",
   "metadata": {},
   "outputs": [
    {
     "data": {
      "text/html": [
       "<div>\n",
       "<style scoped>\n",
       "    .dataframe tbody tr th:only-of-type {\n",
       "        vertical-align: middle;\n",
       "    }\n",
       "\n",
       "    .dataframe tbody tr th {\n",
       "        vertical-align: top;\n",
       "    }\n",
       "\n",
       "    .dataframe thead th {\n",
       "        text-align: right;\n",
       "    }\n",
       "</style>\n",
       "<table border=\"1\" class=\"dataframe\">\n",
       "  <thead>\n",
       "    <tr style=\"text-align: right;\">\n",
       "      <th></th>\n",
       "      <th>id</th>\n",
       "      <th>session</th>\n",
       "      <th>electoralTerm</th>\n",
       "      <th>firstName</th>\n",
       "      <th>lastName</th>\n",
       "      <th>politicianId</th>\n",
       "      <th>speechContent</th>\n",
       "      <th>factionId</th>\n",
       "      <th>documentUrl</th>\n",
       "      <th>positionShort</th>\n",
       "      <th>positionLong</th>\n",
       "      <th>date</th>\n",
       "    </tr>\n",
       "  </thead>\n",
       "  <tbody>\n",
       "    <tr>\n",
       "      <th>0</th>\n",
       "      <td>1000004</td>\n",
       "      <td>1</td>\n",
       "      <td>19</td>\n",
       "      <td>Bernd</td>\n",
       "      <td>Baumann</td>\n",
       "      <td>11004662</td>\n",
       "      <td>\\n\\nHerr Präsident! Meine Damen und Herren! Im...</td>\n",
       "      <td>0</td>\n",
       "      <td>https://dip21.bundestag.de/dip21/btp/19/19001.pdf</td>\n",
       "      <td>Member of Parliament</td>\n",
       "      <td>NaN</td>\n",
       "      <td>2017-10-24</td>\n",
       "    </tr>\n",
       "    <tr>\n",
       "      <th>1</th>\n",
       "      <td>1000038</td>\n",
       "      <td>2</td>\n",
       "      <td>19</td>\n",
       "      <td>Bernd</td>\n",
       "      <td>Baumann</td>\n",
       "      <td>11004662</td>\n",
       "      <td>\\n\\nHerr Präsident! Meine Damen und Herren! Wi...</td>\n",
       "      <td>0</td>\n",
       "      <td>https://dip21.bundestag.de/dip21/btp/19/19002.pdf</td>\n",
       "      <td>Member of Parliament</td>\n",
       "      <td>NaN</td>\n",
       "      <td>2017-11-21</td>\n",
       "    </tr>\n",
       "    <tr>\n",
       "      <th>2</th>\n",
       "      <td>1000050</td>\n",
       "      <td>2</td>\n",
       "      <td>19</td>\n",
       "      <td>Jan Ralf</td>\n",
       "      <td>Nolte</td>\n",
       "      <td>11004842</td>\n",
       "      <td>\\n\\nSehr geehrter Herr Präsident! Sehr geehrte...</td>\n",
       "      <td>0</td>\n",
       "      <td>https://dip21.bundestag.de/dip21/btp/19/19002.pdf</td>\n",
       "      <td>Member of Parliament</td>\n",
       "      <td>NaN</td>\n",
       "      <td>2017-11-21</td>\n",
       "    </tr>\n",
       "    <tr>\n",
       "      <th>3</th>\n",
       "      <td>1000068</td>\n",
       "      <td>2</td>\n",
       "      <td>19</td>\n",
       "      <td>Norbert</td>\n",
       "      <td>Kleinwächter</td>\n",
       "      <td>11004781</td>\n",
       "      <td>\\n\\nHerr Präsident! Werte Kollegen! Dieser Ein...</td>\n",
       "      <td>0</td>\n",
       "      <td>https://dip21.bundestag.de/dip21/btp/19/19002.pdf</td>\n",
       "      <td>Member of Parliament</td>\n",
       "      <td>NaN</td>\n",
       "      <td>2017-11-21</td>\n",
       "    </tr>\n",
       "    <tr>\n",
       "      <th>4</th>\n",
       "      <td>1000091</td>\n",
       "      <td>2</td>\n",
       "      <td>19</td>\n",
       "      <td>Eberhardt Alexander</td>\n",
       "      <td>Gauland</td>\n",
       "      <td>11004724</td>\n",
       "      <td>\\n\\nHerr Präsident! Meine Damen und Herren!\\n\\...</td>\n",
       "      <td>0</td>\n",
       "      <td>https://dip21.bundestag.de/dip21/btp/19/19002.pdf</td>\n",
       "      <td>Member of Parliament</td>\n",
       "      <td>NaN</td>\n",
       "      <td>2017-11-21</td>\n",
       "    </tr>\n",
       "    <tr>\n",
       "      <th>...</th>\n",
       "      <td>...</td>\n",
       "      <td>...</td>\n",
       "      <td>...</td>\n",
       "      <td>...</td>\n",
       "      <td>...</td>\n",
       "      <td>...</td>\n",
       "      <td>...</td>\n",
       "      <td>...</td>\n",
       "      <td>...</td>\n",
       "      <td>...</td>\n",
       "      <td>...</td>\n",
       "      <td>...</td>\n",
       "    </tr>\n",
       "    <tr>\n",
       "      <th>4432</th>\n",
       "      <td>1060872</td>\n",
       "      <td>228</td>\n",
       "      <td>19</td>\n",
       "      <td>Rüdiger</td>\n",
       "      <td>Lucassen</td>\n",
       "      <td>11004807</td>\n",
       "      <td>\\n\\nFrau Präsidentin! Meine Damen und Herren! ...</td>\n",
       "      <td>0</td>\n",
       "      <td>https://dip21.bundestag.de/dip21/btp/19/19228.pdf</td>\n",
       "      <td>Member of Parliament</td>\n",
       "      <td>NaN</td>\n",
       "      <td>2021-05-07</td>\n",
       "    </tr>\n",
       "    <tr>\n",
       "      <th>4433</th>\n",
       "      <td>1060902</td>\n",
       "      <td>228</td>\n",
       "      <td>19</td>\n",
       "      <td>Götz</td>\n",
       "      <td>Frömming</td>\n",
       "      <td>11004722</td>\n",
       "      <td>\\n\\nSehr geehrte Frau Präsidentin! Sehr geehrt...</td>\n",
       "      <td>0</td>\n",
       "      <td>https://dip21.bundestag.de/dip21/btp/19/19228.pdf</td>\n",
       "      <td>Member of Parliament</td>\n",
       "      <td>NaN</td>\n",
       "      <td>2021-05-07</td>\n",
       "    </tr>\n",
       "    <tr>\n",
       "      <th>4434</th>\n",
       "      <td>1060904</td>\n",
       "      <td>228</td>\n",
       "      <td>19</td>\n",
       "      <td>Götz</td>\n",
       "      <td>Frömming</td>\n",
       "      <td>11004722</td>\n",
       "      <td>\\n\\nWir meinen, auch hier sollten wir aus den ...</td>\n",
       "      <td>0</td>\n",
       "      <td>https://dip21.bundestag.de/dip21/btp/19/19228.pdf</td>\n",
       "      <td>Member of Parliament</td>\n",
       "      <td>NaN</td>\n",
       "      <td>2021-05-07</td>\n",
       "    </tr>\n",
       "    <tr>\n",
       "      <th>4435</th>\n",
       "      <td>1060923</td>\n",
       "      <td>228</td>\n",
       "      <td>19</td>\n",
       "      <td>Joana</td>\n",
       "      <td>Cotar</td>\n",
       "      <td>11004696</td>\n",
       "      <td>\\n\\nFrau Präsidentin! Werte Kollegen! Es steht...</td>\n",
       "      <td>0</td>\n",
       "      <td>https://dip21.bundestag.de/dip21/btp/19/19228.pdf</td>\n",
       "      <td>Member of Parliament</td>\n",
       "      <td>NaN</td>\n",
       "      <td>2021-05-07</td>\n",
       "    </tr>\n",
       "    <tr>\n",
       "      <th>4436</th>\n",
       "      <td>1060943</td>\n",
       "      <td>228</td>\n",
       "      <td>19</td>\n",
       "      <td>Gottfried</td>\n",
       "      <td>Curio</td>\n",
       "      <td>11004698</td>\n",
       "      <td>\\n\\nSehr geehrte Frau Präsidentin! Meine Damen...</td>\n",
       "      <td>0</td>\n",
       "      <td>https://dip21.bundestag.de/dip21/btp/19/19228.pdf</td>\n",
       "      <td>Member of Parliament</td>\n",
       "      <td>NaN</td>\n",
       "      <td>2021-05-07</td>\n",
       "    </tr>\n",
       "  </tbody>\n",
       "</table>\n",
       "<p>4437 rows × 12 columns</p>\n",
       "</div>"
      ],
      "text/plain": [
       "           id  session  electoralTerm            firstName      lastName  \\\n",
       "0     1000004        1             19                Bernd       Baumann   \n",
       "1     1000038        2             19                Bernd       Baumann   \n",
       "2     1000050        2             19             Jan Ralf         Nolte   \n",
       "3     1000068        2             19              Norbert  Kleinwächter   \n",
       "4     1000091        2             19  Eberhardt Alexander       Gauland   \n",
       "...       ...      ...            ...                  ...           ...   \n",
       "4432  1060872      228             19              Rüdiger      Lucassen   \n",
       "4433  1060902      228             19                 Götz      Frömming   \n",
       "4434  1060904      228             19                 Götz      Frömming   \n",
       "4435  1060923      228             19                Joana         Cotar   \n",
       "4436  1060943      228             19            Gottfried         Curio   \n",
       "\n",
       "      politicianId                                      speechContent  \\\n",
       "0         11004662  \\n\\nHerr Präsident! Meine Damen und Herren! Im...   \n",
       "1         11004662  \\n\\nHerr Präsident! Meine Damen und Herren! Wi...   \n",
       "2         11004842  \\n\\nSehr geehrter Herr Präsident! Sehr geehrte...   \n",
       "3         11004781  \\n\\nHerr Präsident! Werte Kollegen! Dieser Ein...   \n",
       "4         11004724  \\n\\nHerr Präsident! Meine Damen und Herren!\\n\\...   \n",
       "...            ...                                                ...   \n",
       "4432      11004807  \\n\\nFrau Präsidentin! Meine Damen und Herren! ...   \n",
       "4433      11004722  \\n\\nSehr geehrte Frau Präsidentin! Sehr geehrt...   \n",
       "4434      11004722  \\n\\nWir meinen, auch hier sollten wir aus den ...   \n",
       "4435      11004696  \\n\\nFrau Präsidentin! Werte Kollegen! Es steht...   \n",
       "4436      11004698  \\n\\nSehr geehrte Frau Präsidentin! Meine Damen...   \n",
       "\n",
       "      factionId                                        documentUrl  \\\n",
       "0             0  https://dip21.bundestag.de/dip21/btp/19/19001.pdf   \n",
       "1             0  https://dip21.bundestag.de/dip21/btp/19/19002.pdf   \n",
       "2             0  https://dip21.bundestag.de/dip21/btp/19/19002.pdf   \n",
       "3             0  https://dip21.bundestag.de/dip21/btp/19/19002.pdf   \n",
       "4             0  https://dip21.bundestag.de/dip21/btp/19/19002.pdf   \n",
       "...         ...                                                ...   \n",
       "4432          0  https://dip21.bundestag.de/dip21/btp/19/19228.pdf   \n",
       "4433          0  https://dip21.bundestag.de/dip21/btp/19/19228.pdf   \n",
       "4434          0  https://dip21.bundestag.de/dip21/btp/19/19228.pdf   \n",
       "4435          0  https://dip21.bundestag.de/dip21/btp/19/19228.pdf   \n",
       "4436          0  https://dip21.bundestag.de/dip21/btp/19/19228.pdf   \n",
       "\n",
       "             positionShort positionLong        date  \n",
       "0     Member of Parliament          NaN  2017-10-24  \n",
       "1     Member of Parliament          NaN  2017-11-21  \n",
       "2     Member of Parliament          NaN  2017-11-21  \n",
       "3     Member of Parliament          NaN  2017-11-21  \n",
       "4     Member of Parliament          NaN  2017-11-21  \n",
       "...                    ...          ...         ...  \n",
       "4432  Member of Parliament          NaN  2021-05-07  \n",
       "4433  Member of Parliament          NaN  2021-05-07  \n",
       "4434  Member of Parliament          NaN  2021-05-07  \n",
       "4435  Member of Parliament          NaN  2021-05-07  \n",
       "4436  Member of Parliament          NaN  2021-05-07  \n",
       "\n",
       "[4437 rows x 12 columns]"
      ]
     },
     "execution_count": 11,
     "metadata": {},
     "output_type": "execute_result"
    }
   ],
   "source": [
    "# Index der nur-AfD-Reden resetten:\n",
    "\n",
    "afd.reset_index(drop=True)"
   ]
  },
  {
   "cell_type": "code",
   "execution_count": 14,
   "id": "fce79bef",
   "metadata": {},
   "outputs": [
    {
     "name": "stdout",
     "output_type": "stream",
     "text": [
      "246180\n"
     ]
    }
   ],
   "source": [
    "# damit spaCy mit der Tabelle arbeiten kann, müssen die Texte der Reden als spaCy-doc extrahiert werden\n",
    "# weil die Datenmenge so groß ist, verwenden wir nur die letzten 500 Zeilen (= die aktuellsten Reden)\n",
    "               \n",
    "reden = \" \".join(afd.tail(500)[\"speechContent\"].astype(str))\n",
    "\n",
    "doc = nlp(reden)\n",
    "\n",
    "print(len(doc))"
   ]
  },
  {
   "cell_type": "code",
   "execution_count": 15,
   "id": "78a9d025",
   "metadata": {},
   "outputs": [],
   "source": [
    "# nach Bestandteilen von Wörtern suchen wir mit Regex, da der Matcher nicht innerhalb von Tokens suchen kann\n",
    "\n",
    "import re"
   ]
  },
  {
   "cell_type": "code",
   "execution_count": 34,
   "id": "4f37943e",
   "metadata": {},
   "outputs": [
    {
     "name": "stdout",
     "output_type": "stream",
     "text": [
      "['Volk', 'Volk', 'Volk', 'Volk', 'Volk', 'Völker', 'Völkermord', 'Völker', 'Völkerschaften', 'Völkerschaften', 'Völker', 'Völker', 'Völkern', 'Volk', 'Völkerbund', 'Volk', 'Volk', 'Volk', 'Volk', 'Volk', 'Volk', 'Volk', 'Volk', 'Volk', 'Völker', 'Völkermord', 'Völkermord', 'Völkermords', 'Völkermords', 'Völker', 'Volk', 'Volk', 'Volk', 'Volk', 'Volk', 'Volk', 'Völkern', 'Völker', 'Völker', 'Volk', 'Völker', 'Volk', 'Volk', 'Volk', 'Volk', 'Völkerrecht', 'Völkerrecht', 'Volk', 'Volk', 'Völker', 'Völker', 'Volk', 'Völkermord', 'Völkermord', 'Völkermord', 'Völkermord', 'Völkermord', 'Völkermord', 'Völkermords', 'Volk', 'Völkerschaften', 'Volk', 'Volk']\n"
     ]
    }
   ],
   "source": [
    "pattern1 = r\"(Volk|Völker\\w*)\\b\"\n",
    "\n",
    "matches = re.findall(pattern1, reden)\n",
    "\n",
    "print(matches)"
   ]
  },
  {
   "cell_type": "code",
   "execution_count": 24,
   "id": "dfd8ff15",
   "metadata": {},
   "outputs": [
    {
     "name": "stdout",
     "output_type": "stream",
     "text": [
      "[('', 'sogenannten Kinderrechte'), ('sogenannten gesunden Menschenverstand', ''), ('sogenannten schwarzen Liste', ''), ('', 'sogenannten Klimarettungsmaßnahmen'), ('', 'sogenannte Energiewende'), ('', 'sogenanntes Baulandmobilisierungsgesetz'), ('', 'sogenannte Schutzmasken'), ('', 'sogenannten Great'), ('', 'sogenannten Lockdown'), ('', 'sogenannte Energiewende'), ('sogenannten instabilen Erneuerbaren', ''), ('', 'sogenannte Energiewende'), ('', 'sogenannte Recht'), ('', 'sogenannten Vogel'), ('sogenannten regelbasierten Multilateralität', ''), ('', 'sogenannten Kollateralschaden'), ('sogenannten symptomlos Erkrankten', ''), ('sogenannte echte Doppelname', ''), ('sogenannte amerikanische Mini', ''), ('sogenannte disziplinierte Demokratie', ''), ('', 'sogenannte Neiddebatte'), ('', 'sogenannte Kolonialmandat'), ('sogenannten begrenzten Einzelermächtigung', ''), ('', 'sogenannte Europäische'), ('', 'sogenannten Globalen'), ('', 'sogenannten Eigenmittelbeschluss'), ('', 'sogenannter Flüchtlinge'), ('', 'sogenannten Klimarettung'), ('sogenannte neue Schneestrategie', ''), ('sogenannten epidemischen Lage', ''), ('', 'sogenannten Kampf'), ('', 'sogenannten Finanzmarktintegritätsstärkungsgesetz'), ('', 'sogenannte Gold'), ('', 'sogenannte Kaskadenverweis'), ('sogenannte aktive Industriepolitik', ''), ('', 'sogenannten Regierungsschutz'), ('', 'sogenannte NGOs'), ('', 'sogenannten Pandemie'), ('', 'sogenannten Osterruhe'), ('', 'sogenannten Balkanfeldzuges'), ('', 'sogenannten Euro'), ('', 'sogenannte Osterruhe'), ('', 'sogenannten Positionierungen'), ('', 'sogenannte Warenkaufrichtlinie'), ('', 'sogenannten Gremienfilm'), ('', 'sogenannten Teilhabestärkungsgesetz'), ('', 'sogenannten Party'), ('', 'sogenannten Agendawissenschaften'), ('', 'sogenannte Geschlechterstereotype'), ('', 'sogenannten Grauen'), ('', 'sogenannten Prospekten'), ('', 'sogenannte Auffangregister'), ('', 'sogenannte Coronapatienten'), ('', 'sogenannten EU'), ('', 'sogenannte Umdrucke'), ('', 'sogenannte Schlüsselrolle'), ('', 'sogenannte KI'), ('sogenannte konventionelle Landwirtschaft', ''), ('', 'sogenannten Share'), ('', 'sogenannter Selbstvertretungen'), ('', 'sogenannte Weltklima'), ('', 'sogenannte Infektionsschutzgesetz'), ('', 'sogenannte Tarifvorbehalt'), ('', 'sogenannten Vegetationskontrolle'), ('', 'sogenannten Brotfischen'), ('', 'sogenannten Coronapandemie'), ('', 'sogenannten Feindeslisten'), ('', 'sogenannten Outing'), ('', 'sogenannten Sicherheitsgesetz'), ('', 'sogenanntes Existenzgeld'), ('', 'sogenannten Bundesnotbremse'), ('sogenannte pandemische Lagen', ''), ('sogenannten vereinfachten Verfahren', ''), ('sogenannte gewerkschaftliche Ideologien', ''), ('', 'sogenannten Steueroasen'), ('sogenannte schwarze Liste', ''), ('', 'sogenannte Steuerhinterziehungsbekämpfungsverordnung'), ('', 'sogenannte Freiheiten'), ('', 'sogenannten Volksvertreter'), ('', 'sogenannter Zivilgesellschaften'), ('', 'sogenannten Regenschirmproteste'), ('', 'sogenannte Quellen'), ('', 'sogenannten Globalen'), ('', 'sogenannten Probleme'), ('', 'sogenannten Non'), ('', 'sogenannte Out')]\n"
     ]
    }
   ],
   "source": [
    "pattern2 = r\"(\\wogenannt\\w+ [a-z]+ [A-Z]\\w+)|(\\wogenannt\\w+ [A-Z]\\w+)\"\n",
    "\n",
    "matches = re.findall(pattern2, reden)\n",
    "\n",
    "print(matches)"
   ]
  },
  {
   "cell_type": "code",
   "execution_count": null,
   "id": "e216b4dd",
   "metadata": {},
   "outputs": [],
   "source": []
  }
 ],
 "metadata": {
  "kernelspec": {
   "display_name": "Python 3 (ipykernel)",
   "language": "python",
   "name": "python3"
  },
  "language_info": {
   "codemirror_mode": {
    "name": "ipython",
    "version": 3
   },
   "file_extension": ".py",
   "mimetype": "text/x-python",
   "name": "python",
   "nbconvert_exporter": "python",
   "pygments_lexer": "ipython3",
   "version": "3.11.5"
  }
 },
 "nbformat": 4,
 "nbformat_minor": 5
}
