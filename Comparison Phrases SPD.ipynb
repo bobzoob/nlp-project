{
 "cells": [
  {
   "cell_type": "code",
   "execution_count": 1,
   "id": "8d13fe66",
   "metadata": {},
   "outputs": [],
   "source": [
    "import pandas as pd"
   ]
  },
  {
   "cell_type": "code",
   "execution_count": 2,
   "id": "834dbef3",
   "metadata": {},
   "outputs": [],
   "source": [
    "import spacy"
   ]
  },
  {
   "cell_type": "code",
   "execution_count": 12,
   "id": "bf158695",
   "metadata": {},
   "outputs": [],
   "source": [
    "import re"
   ]
  },
  {
   "cell_type": "code",
   "execution_count": 3,
   "id": "f84ee230",
   "metadata": {},
   "outputs": [],
   "source": [
    "nlp = spacy.load(\"de_core_news_sm\")"
   ]
  },
  {
   "cell_type": "code",
   "execution_count": 4,
   "id": "bc7ba53c",
   "metadata": {},
   "outputs": [],
   "source": [
    "nlp.max_length = 1500000"
   ]
  },
  {
   "cell_type": "code",
   "execution_count": 5,
   "id": "23c56616",
   "metadata": {},
   "outputs": [],
   "source": [
    "with open (\"speeches.csv\", \"r\", encoding=\"UTF-8\") as f:\n",
    "    text = f.read()"
   ]
  },
  {
   "cell_type": "code",
   "execution_count": 6,
   "id": "21718ac3",
   "metadata": {},
   "outputs": [],
   "source": [
    "opendiscourse = pd.read_csv(\"speeches.csv\")"
   ]
  },
  {
   "cell_type": "code",
   "execution_count": 7,
   "id": "6adf8b5c",
   "metadata": {},
   "outputs": [
    {
     "name": "stdout",
     "output_type": "stream",
     "text": [
      "    id  abbreviation                                          full_name\n",
      "0   -1     not found                                          not found\n",
      "1    0           AfD                        Alternative für Deutschland\n",
      "2    1           BHE      Block der Heimatvertriebenen und Entrechteten\n",
      "3    2            BP                                       Bayernpartei\n",
      "4    3         Grüne                              Bündnis 90/Die Grünen\n",
      "5    4       CDU/CSU  Christlich Demokratische Union Deutschlands/Ch...\n",
      "6    5            DA                  Demokratische Arbeitsgemeinschaft\n",
      "7    6    DIE LINKE.                                         DIE LINKE.\n",
      "8    7            DP                                    Deutsche Partei\n",
      "9    8        DP/DBP             Deutsche Partei/Deutsche Partei Bayern\n",
      "10   9        DP/FVP                  Deutsche Partei/Freie Volkspartei\n",
      "11  10           DPB                             Deutsche Partei Bayern\n",
      "12  11           DRP                              Deutsche Reformpartei\n",
      "13  12        DRP/NR             Deutsche Reichspartei/Nationale Rechte\n",
      "14  13           FDP                         Freie Demokratische Partei\n",
      "15  14            FU                              Föderalistische Union\n",
      "16  15           FVP                                  Freie Volkspartei\n",
      "17  16  Fraktionslos                                       Fraktionslos\n",
      "18  17        GB/BHE  Gesamtdeutscher Block/Bund der Heimatvertriebe...\n",
      "19  18          Gast                                               Gast\n",
      "20  19            KO                            Kraft/Oberländer-Gruppe\n",
      "21  20           KPD                 Kommunistische Partei Deutschlands\n",
      "22  21            NR                                   Nationale Rechte\n",
      "23  22           PDS              Partei des Demokratischen Sozialismus\n",
      "24  23           SPD            Sozialdemokratische Partei Deutschlands\n",
      "25  24           SSW                    Südschleswigscher Wählerverband\n",
      "26  25           WAV                 Wirtschaftliche Aufbau-Vereinigung\n",
      "27  26             Z                            Deutsche Zentrumspartei\n"
     ]
    }
   ],
   "source": [
    "with open (\"factions.csv\", \"r\", encoding=\"UTF-8\") as f:\n",
    "    text = f.read()\n",
    "    \n",
    "factions = pd.read_csv(\"factions.csv\")\n",
    "print(factions)"
   ]
  },
  {
   "cell_type": "code",
   "execution_count": 8,
   "id": "5064cbd6",
   "metadata": {},
   "outputs": [
    {
     "name": "stdout",
     "output_type": "stream",
     "text": [
      "             id  session  electoralTerm firstName    lastName  politicianId  \\\n",
      "13           13        4              1       NaN      schmid      11001993   \n",
      "59           59        6              1       NaN  schumacher      11002113   \n",
      "61           61        6              1       NaN  schumacher      11002113   \n",
      "63           63        6              1       NaN  schumacher      11002113   \n",
      "65           65        6              1       NaN  schumacher      11002113   \n",
      "...         ...      ...            ...       ...         ...           ...   \n",
      "907631  1060945      228             19    Martin     Rabanus      11004381   \n",
      "907635  1060949      228             19     Helge       Lindh      11004802   \n",
      "907637  1060951      228             19     Helge       Lindh      11004802   \n",
      "907639  1060953      228             19     Helge       Lindh      11004802   \n",
      "907641  1060955      228             19     Helge       Lindh      11004802   \n",
      "\n",
      "                                            speechContent  factionId  \\\n",
      "13      Meine Damen und Herren, ich habe den Eindruck,...         23   \n",
      "59      Meine Damen und Herren! Die Erklärung der Bund...         23   \n",
      "61      Ich würde, Herr Präsident, mit Ihrer Erlaubnis...         23   \n",
      "63             Ein großer Teil, habe ich gesagt.\\n({0})\\n         23   \n",
      "65      Ich akzeptiere selbstverständlich die Richtlin...         23   \n",
      "...                                                   ...        ...   \n",
      "907631  \\n\\nFrau Präsidentin! Liebe Kolleginnen und Ko...         23   \n",
      "907635  \\n\\nFrau Präsidentin! Liebe Kolleginnen und Ko...         23   \n",
      "907637  \\n\\n– weise ich mal darauf hin, was das konkre...         23   \n",
      "907639                                     \\n\\nWie bitte?         23   \n",
      "907641  \\n\\nGut, ich beschränke mich auf einen Satz:\\n...         23   \n",
      "\n",
      "                                              documentUrl  \\\n",
      "13      https://dip21.bundestag.de/dip21/btp/01/01004.pdf   \n",
      "59      https://dip21.bundestag.de/dip21/btp/01/01006.pdf   \n",
      "61      https://dip21.bundestag.de/dip21/btp/01/01006.pdf   \n",
      "63      https://dip21.bundestag.de/dip21/btp/01/01006.pdf   \n",
      "65      https://dip21.bundestag.de/dip21/btp/01/01006.pdf   \n",
      "...                                                   ...   \n",
      "907631  https://dip21.bundestag.de/dip21/btp/19/19228.pdf   \n",
      "907635  https://dip21.bundestag.de/dip21/btp/19/19228.pdf   \n",
      "907637  https://dip21.bundestag.de/dip21/btp/19/19228.pdf   \n",
      "907639  https://dip21.bundestag.de/dip21/btp/19/19228.pdf   \n",
      "907641  https://dip21.bundestag.de/dip21/btp/19/19228.pdf   \n",
      "\n",
      "               positionShort positionLong        date  \n",
      "13      Member of Parliament          NaN  1949-09-15  \n",
      "59      Member of Parliament          NaN  1949-09-21  \n",
      "61      Member of Parliament          NaN  1949-09-21  \n",
      "63      Member of Parliament          NaN  1949-09-21  \n",
      "65      Member of Parliament          NaN  1949-09-21  \n",
      "...                      ...          ...         ...  \n",
      "907631  Member of Parliament          NaN  2021-05-07  \n",
      "907635  Member of Parliament          NaN  2021-05-07  \n",
      "907637  Member of Parliament          NaN  2021-05-07  \n",
      "907639  Member of Parliament          NaN  2021-05-07  \n",
      "907641  Member of Parliament          NaN  2021-05-07  \n",
      "\n",
      "[119578 rows x 12 columns]\n"
     ]
    }
   ],
   "source": [
    "# SPD hat die ID 23\n",
    "\n",
    "spd = opendiscourse.query('factionId == 23')\n",
    "print(spd)"
   ]
  },
  {
   "cell_type": "code",
   "execution_count": 9,
   "id": "242244a9",
   "metadata": {},
   "outputs": [
    {
     "name": "stdout",
     "output_type": "stream",
     "text": [
      "119578\n"
     ]
    }
   ],
   "source": [
    "print(len(spd))"
   ]
  },
  {
   "cell_type": "code",
   "execution_count": 10,
   "id": "9da15b8e",
   "metadata": {},
   "outputs": [
    {
     "data": {
      "text/html": [
       "<div>\n",
       "<style scoped>\n",
       "    .dataframe tbody tr th:only-of-type {\n",
       "        vertical-align: middle;\n",
       "    }\n",
       "\n",
       "    .dataframe tbody tr th {\n",
       "        vertical-align: top;\n",
       "    }\n",
       "\n",
       "    .dataframe thead th {\n",
       "        text-align: right;\n",
       "    }\n",
       "</style>\n",
       "<table border=\"1\" class=\"dataframe\">\n",
       "  <thead>\n",
       "    <tr style=\"text-align: right;\">\n",
       "      <th></th>\n",
       "      <th>id</th>\n",
       "      <th>session</th>\n",
       "      <th>electoralTerm</th>\n",
       "      <th>firstName</th>\n",
       "      <th>lastName</th>\n",
       "      <th>politicianId</th>\n",
       "      <th>speechContent</th>\n",
       "      <th>factionId</th>\n",
       "      <th>documentUrl</th>\n",
       "      <th>positionShort</th>\n",
       "      <th>positionLong</th>\n",
       "      <th>date</th>\n",
       "    </tr>\n",
       "  </thead>\n",
       "  <tbody>\n",
       "    <tr>\n",
       "      <th>0</th>\n",
       "      <td>13</td>\n",
       "      <td>4</td>\n",
       "      <td>1</td>\n",
       "      <td>NaN</td>\n",
       "      <td>schmid</td>\n",
       "      <td>11001993</td>\n",
       "      <td>Meine Damen und Herren, ich habe den Eindruck,...</td>\n",
       "      <td>23</td>\n",
       "      <td>https://dip21.bundestag.de/dip21/btp/01/01004.pdf</td>\n",
       "      <td>Member of Parliament</td>\n",
       "      <td>NaN</td>\n",
       "      <td>1949-09-15</td>\n",
       "    </tr>\n",
       "    <tr>\n",
       "      <th>1</th>\n",
       "      <td>59</td>\n",
       "      <td>6</td>\n",
       "      <td>1</td>\n",
       "      <td>NaN</td>\n",
       "      <td>schumacher</td>\n",
       "      <td>11002113</td>\n",
       "      <td>Meine Damen und Herren! Die Erklärung der Bund...</td>\n",
       "      <td>23</td>\n",
       "      <td>https://dip21.bundestag.de/dip21/btp/01/01006.pdf</td>\n",
       "      <td>Member of Parliament</td>\n",
       "      <td>NaN</td>\n",
       "      <td>1949-09-21</td>\n",
       "    </tr>\n",
       "    <tr>\n",
       "      <th>2</th>\n",
       "      <td>61</td>\n",
       "      <td>6</td>\n",
       "      <td>1</td>\n",
       "      <td>NaN</td>\n",
       "      <td>schumacher</td>\n",
       "      <td>11002113</td>\n",
       "      <td>Ich würde, Herr Präsident, mit Ihrer Erlaubnis...</td>\n",
       "      <td>23</td>\n",
       "      <td>https://dip21.bundestag.de/dip21/btp/01/01006.pdf</td>\n",
       "      <td>Member of Parliament</td>\n",
       "      <td>NaN</td>\n",
       "      <td>1949-09-21</td>\n",
       "    </tr>\n",
       "    <tr>\n",
       "      <th>3</th>\n",
       "      <td>63</td>\n",
       "      <td>6</td>\n",
       "      <td>1</td>\n",
       "      <td>NaN</td>\n",
       "      <td>schumacher</td>\n",
       "      <td>11002113</td>\n",
       "      <td>Ein großer Teil, habe ich gesagt.\\n({0})\\n</td>\n",
       "      <td>23</td>\n",
       "      <td>https://dip21.bundestag.de/dip21/btp/01/01006.pdf</td>\n",
       "      <td>Member of Parliament</td>\n",
       "      <td>NaN</td>\n",
       "      <td>1949-09-21</td>\n",
       "    </tr>\n",
       "    <tr>\n",
       "      <th>4</th>\n",
       "      <td>65</td>\n",
       "      <td>6</td>\n",
       "      <td>1</td>\n",
       "      <td>NaN</td>\n",
       "      <td>schumacher</td>\n",
       "      <td>11002113</td>\n",
       "      <td>Ich akzeptiere selbstverständlich die Richtlin...</td>\n",
       "      <td>23</td>\n",
       "      <td>https://dip21.bundestag.de/dip21/btp/01/01006.pdf</td>\n",
       "      <td>Member of Parliament</td>\n",
       "      <td>NaN</td>\n",
       "      <td>1949-09-21</td>\n",
       "    </tr>\n",
       "    <tr>\n",
       "      <th>...</th>\n",
       "      <td>...</td>\n",
       "      <td>...</td>\n",
       "      <td>...</td>\n",
       "      <td>...</td>\n",
       "      <td>...</td>\n",
       "      <td>...</td>\n",
       "      <td>...</td>\n",
       "      <td>...</td>\n",
       "      <td>...</td>\n",
       "      <td>...</td>\n",
       "      <td>...</td>\n",
       "      <td>...</td>\n",
       "    </tr>\n",
       "    <tr>\n",
       "      <th>119573</th>\n",
       "      <td>1060945</td>\n",
       "      <td>228</td>\n",
       "      <td>19</td>\n",
       "      <td>Martin</td>\n",
       "      <td>Rabanus</td>\n",
       "      <td>11004381</td>\n",
       "      <td>\\n\\nFrau Präsidentin! Liebe Kolleginnen und Ko...</td>\n",
       "      <td>23</td>\n",
       "      <td>https://dip21.bundestag.de/dip21/btp/19/19228.pdf</td>\n",
       "      <td>Member of Parliament</td>\n",
       "      <td>NaN</td>\n",
       "      <td>2021-05-07</td>\n",
       "    </tr>\n",
       "    <tr>\n",
       "      <th>119574</th>\n",
       "      <td>1060949</td>\n",
       "      <td>228</td>\n",
       "      <td>19</td>\n",
       "      <td>Helge</td>\n",
       "      <td>Lindh</td>\n",
       "      <td>11004802</td>\n",
       "      <td>\\n\\nFrau Präsidentin! Liebe Kolleginnen und Ko...</td>\n",
       "      <td>23</td>\n",
       "      <td>https://dip21.bundestag.de/dip21/btp/19/19228.pdf</td>\n",
       "      <td>Member of Parliament</td>\n",
       "      <td>NaN</td>\n",
       "      <td>2021-05-07</td>\n",
       "    </tr>\n",
       "    <tr>\n",
       "      <th>119575</th>\n",
       "      <td>1060951</td>\n",
       "      <td>228</td>\n",
       "      <td>19</td>\n",
       "      <td>Helge</td>\n",
       "      <td>Lindh</td>\n",
       "      <td>11004802</td>\n",
       "      <td>\\n\\n– weise ich mal darauf hin, was das konkre...</td>\n",
       "      <td>23</td>\n",
       "      <td>https://dip21.bundestag.de/dip21/btp/19/19228.pdf</td>\n",
       "      <td>Member of Parliament</td>\n",
       "      <td>NaN</td>\n",
       "      <td>2021-05-07</td>\n",
       "    </tr>\n",
       "    <tr>\n",
       "      <th>119576</th>\n",
       "      <td>1060953</td>\n",
       "      <td>228</td>\n",
       "      <td>19</td>\n",
       "      <td>Helge</td>\n",
       "      <td>Lindh</td>\n",
       "      <td>11004802</td>\n",
       "      <td>\\n\\nWie bitte?</td>\n",
       "      <td>23</td>\n",
       "      <td>https://dip21.bundestag.de/dip21/btp/19/19228.pdf</td>\n",
       "      <td>Member of Parliament</td>\n",
       "      <td>NaN</td>\n",
       "      <td>2021-05-07</td>\n",
       "    </tr>\n",
       "    <tr>\n",
       "      <th>119577</th>\n",
       "      <td>1060955</td>\n",
       "      <td>228</td>\n",
       "      <td>19</td>\n",
       "      <td>Helge</td>\n",
       "      <td>Lindh</td>\n",
       "      <td>11004802</td>\n",
       "      <td>\\n\\nGut, ich beschränke mich auf einen Satz:\\n...</td>\n",
       "      <td>23</td>\n",
       "      <td>https://dip21.bundestag.de/dip21/btp/19/19228.pdf</td>\n",
       "      <td>Member of Parliament</td>\n",
       "      <td>NaN</td>\n",
       "      <td>2021-05-07</td>\n",
       "    </tr>\n",
       "  </tbody>\n",
       "</table>\n",
       "<p>119578 rows × 12 columns</p>\n",
       "</div>"
      ],
      "text/plain": [
       "             id  session  electoralTerm firstName    lastName  politicianId  \\\n",
       "0            13        4              1       NaN      schmid      11001993   \n",
       "1            59        6              1       NaN  schumacher      11002113   \n",
       "2            61        6              1       NaN  schumacher      11002113   \n",
       "3            63        6              1       NaN  schumacher      11002113   \n",
       "4            65        6              1       NaN  schumacher      11002113   \n",
       "...         ...      ...            ...       ...         ...           ...   \n",
       "119573  1060945      228             19    Martin     Rabanus      11004381   \n",
       "119574  1060949      228             19     Helge       Lindh      11004802   \n",
       "119575  1060951      228             19     Helge       Lindh      11004802   \n",
       "119576  1060953      228             19     Helge       Lindh      11004802   \n",
       "119577  1060955      228             19     Helge       Lindh      11004802   \n",
       "\n",
       "                                            speechContent  factionId  \\\n",
       "0       Meine Damen und Herren, ich habe den Eindruck,...         23   \n",
       "1       Meine Damen und Herren! Die Erklärung der Bund...         23   \n",
       "2       Ich würde, Herr Präsident, mit Ihrer Erlaubnis...         23   \n",
       "3              Ein großer Teil, habe ich gesagt.\\n({0})\\n         23   \n",
       "4       Ich akzeptiere selbstverständlich die Richtlin...         23   \n",
       "...                                                   ...        ...   \n",
       "119573  \\n\\nFrau Präsidentin! Liebe Kolleginnen und Ko...         23   \n",
       "119574  \\n\\nFrau Präsidentin! Liebe Kolleginnen und Ko...         23   \n",
       "119575  \\n\\n– weise ich mal darauf hin, was das konkre...         23   \n",
       "119576                                     \\n\\nWie bitte?         23   \n",
       "119577  \\n\\nGut, ich beschränke mich auf einen Satz:\\n...         23   \n",
       "\n",
       "                                              documentUrl  \\\n",
       "0       https://dip21.bundestag.de/dip21/btp/01/01004.pdf   \n",
       "1       https://dip21.bundestag.de/dip21/btp/01/01006.pdf   \n",
       "2       https://dip21.bundestag.de/dip21/btp/01/01006.pdf   \n",
       "3       https://dip21.bundestag.de/dip21/btp/01/01006.pdf   \n",
       "4       https://dip21.bundestag.de/dip21/btp/01/01006.pdf   \n",
       "...                                                   ...   \n",
       "119573  https://dip21.bundestag.de/dip21/btp/19/19228.pdf   \n",
       "119574  https://dip21.bundestag.de/dip21/btp/19/19228.pdf   \n",
       "119575  https://dip21.bundestag.de/dip21/btp/19/19228.pdf   \n",
       "119576  https://dip21.bundestag.de/dip21/btp/19/19228.pdf   \n",
       "119577  https://dip21.bundestag.de/dip21/btp/19/19228.pdf   \n",
       "\n",
       "               positionShort positionLong        date  \n",
       "0       Member of Parliament          NaN  1949-09-15  \n",
       "1       Member of Parliament          NaN  1949-09-21  \n",
       "2       Member of Parliament          NaN  1949-09-21  \n",
       "3       Member of Parliament          NaN  1949-09-21  \n",
       "4       Member of Parliament          NaN  1949-09-21  \n",
       "...                      ...          ...         ...  \n",
       "119573  Member of Parliament          NaN  2021-05-07  \n",
       "119574  Member of Parliament          NaN  2021-05-07  \n",
       "119575  Member of Parliament          NaN  2021-05-07  \n",
       "119576  Member of Parliament          NaN  2021-05-07  \n",
       "119577  Member of Parliament          NaN  2021-05-07  \n",
       "\n",
       "[119578 rows x 12 columns]"
      ]
     },
     "execution_count": 10,
     "metadata": {},
     "output_type": "execute_result"
    }
   ],
   "source": [
    "spd.reset_index(drop=True)"
   ]
  },
  {
   "cell_type": "code",
   "execution_count": 11,
   "id": "2256cfe4",
   "metadata": {},
   "outputs": [
    {
     "name": "stdout",
     "output_type": "stream",
     "text": [
      "269615\n"
     ]
    }
   ],
   "source": [
    "reden = \" \".join(spd.tail(500)[\"speechContent\"].astype(str))\n",
    "\n",
    "doc = nlp(reden)\n",
    "\n",
    "print(len(doc))"
   ]
  },
  {
   "cell_type": "code",
   "execution_count": 13,
   "id": "e475ebc1",
   "metadata": {},
   "outputs": [
    {
     "name": "stdout",
     "output_type": "stream",
     "text": [
      "[('', '', '', 'Weltbevölkerung'), ('', '', '', 'Weltbevölkerung'), ('', '', '', 'Bevölkerung'), ('Volkswirtschaft', '', '', ''), ('Volkswirtschaft', '', '', ''), ('', '', '', 'Bevölkerung'), ('', '', '', 'Bevölkerung'), ('', '', '', 'Bevölkerung'), ('', '', '', 'Bevölkerung'), ('', '', '', 'Erdbevölkerung'), ('Volk', '', '', ''), ('', '', '', 'Weltbevölkerung'), ('', '', '', 'Bevölkerungen'), ('', '', '', 'Bevölkerung'), ('Volk', '', '', ''), ('Volkes', '', '', ''), ('Volksentscheiden', '', '', ''), ('Volksabstimmungen', '', '', ''), ('Volk', '', '', ''), ('', '', '', 'Bevölkerung'), ('', '', '', 'Bevölkerung'), ('Volksbegehre', '', '', ''), ('Volksentscheide', '', '', ''), ('Volksentscheide', '', '', ''), ('', '', '', 'Bevölkerungsschichten'), ('', '', '', 'Bevölkerung'), ('', '', '', 'Zivilbevölkerung'), ('Volksgruppen', '', '', ''), ('', '', '', 'Bevölkerung'), ('', '', '', 'Bevölkerungsschutzgesetz'), ('', '', '', 'Bevölkerung'), ('', '', '', 'Bevölkerung'), ('', '', '', 'Bevölkerungsteile'), ('Volksvertretung', '', '', ''), ('', '', '', 'Bevölkerung'), ('Volkswirtschaftslehre', '', '', ''), ('', '', '', 'Bevölkerung'), ('', 'Völkerrecht', '', ''), ('Volk', '', '', ''), ('Volk', '', '', ''), ('', 'Völkermordes', '', ''), ('', 'Völkermord', '', ''), ('', 'Völkermord', '', ''), ('', 'Völkermord', '', ''), ('', 'Völkermord', '', ''), ('', 'Völkermord', '', ''), ('', '', '', 'Bevölkerungsschutzgesetz'), ('', '', '', 'Bevölkerung'), ('', '', '', 'Bevölkerung'), ('', '', '', 'Bevölkerung'), ('', '', '', 'Bevölkerung'), ('', '', '', 'Bevölkerungswachstum'), ('', '', '', 'Bevölkerung'), ('Volk', '', '', ''), ('', '', '', 'Bevölkerungsgruppe'), ('', '', '', 'Bevölkerung'), ('', '', '', 'Bevölkerung'), ('Volkes', '', '', ''), ('Volkes', '', '', ''), ('', '', '', 'Bevölkerung'), ('Volkes', '', '', ''), ('', '', '', 'Bevölkerung'), ('', '', '', 'Bevölkerung'), ('', '', '', 'Weltbevölkerung'), ('Volksvertretungen', '', '', ''), ('Volksvertretung', '', '', ''), ('Volkssport', '', '', ''), ('Volkssport', '', '', ''), ('', '', '', 'Bevölkerung'), ('', '', '', 'Bevölkerung'), ('', '', '', 'Bevölkerung'), ('', '', '', 'Bevölkerung'), ('', '', '', 'Bevölkerung'), ('', '', 'Landvolkbewegung', ''), ('', '', 'Landvolkfahne', ''), ('', '', '', 'Bevölkerung'), ('Volksbanken', '', '', ''), ('', '', '', 'Bevölkerung'), ('', '', '', 'Bevölkerung'), ('', '', '', 'Bevölkerungsgruppen'), ('', '', '', 'Bevölkerungsschutzgesetzes'), ('', '', '', 'Bevölkerungsschutzgesetz'), ('', '', '', 'Bevölkerung'), ('', '', '', 'Bevölkerungsschutzsystem'), ('', '', '', 'Bevölkerungsschutzgesetz'), ('', '', '', 'Bevölkerungsschutzgesetz'), ('', '', '', 'Bevölkerungsschutzgesetz'), ('', '', '', 'Bevölkerung'), ('', '', '', 'Zivilbevölkerung'), ('', '', '', 'Bevölkerung'), ('', '', '', 'Bevölkerungsgruppen'), ('', '', '', 'Bevölkerungen'), ('Volk', '', '', ''), ('', 'Völker', '', ''), ('', '', '', 'Bevölkerung'), ('', '', '', 'Bevölkerung'), ('', '', '', 'Bevölkerung'), ('Volksvertreterinnen', '', '', ''), ('Volksvertreter', '', '', ''), ('', '', '', 'Weltbevölkerungsbericht'), ('', '', '', 'Bevölkerungsentwicklung'), ('Volksmusik', '', '', ''), ('', 'Völkerrecht', '', ''), ('', '', '', 'Zivilbevölkerung'), ('', '', '', 'Bevölkerungsschutzgesetz'), ('', '', '', 'Bevölkerung'), ('Volk', '', '', ''), ('', '', '', 'Zivilbevölkerung'), ('', '', '', 'Bevölkerung'), ('', '', '', 'Bevölkerung'), ('', '', '', 'Bevölkerung'), ('', '', '', 'Bevölkerung'), ('Volk', '', '', ''), ('', '', '', 'Bevölkerung'), ('Volkswirtschaft', '', '', ''), ('', '', '', 'Bevölkerung'), ('', '', 'Staatsvolks', ''), ('', '', '', 'Bevölkerungspolitik'), ('Volk', '', '', ''), ('Volk', '', '', ''), ('Volk', '', '', ''), ('Volkswirtschaft', '', '', ''), ('', '', '', 'Bevölkerung'), ('', '', '', 'Bevölkerung'), ('Volksmund', '', '', ''), ('', '', '', 'Bevölkerung'), ('', '', '', 'Bevölkerung'), ('', '', '', 'Bevölkerung'), ('', '', '', 'Bevölkerungsschutzgesetz'), ('', '', '', 'Bevölkerung'), ('', '', '', 'Bevölkerung'), ('', '', '', 'Bevölkerung'), ('', '', '', 'Bevölkerung'), ('Volksrepublik', '', '', ''), ('Volkswirtschaft', '', '', ''), ('Volk', '', '', ''), ('', '', '', 'Bevölkerung'), ('', '', '', 'Bevölkerung')]\n"
     ]
    }
   ],
   "source": [
    "pattern1 = r\"(Volk\\w*\\b)|(Völker\\w*\\b)|(\\w+volk\\w*)|(\\w+völker\\w*)\"\n",
    "\n",
    "matches1 = re.findall(pattern1, reden)\n",
    "\n",
    "print(matches1)"
   ]
  },
  {
   "cell_type": "code",
   "execution_count": 14,
   "id": "8861f1bd",
   "metadata": {},
   "outputs": [
    {
     "name": "stdout",
     "output_type": "stream",
     "text": [
      "[('', 'sogenannten Wucherparagrafen'), ('', 'sogenannte Lern'), ('', 'sogenannten Altparteien'), ('sogenannte gedeckte Schuldverschreibungen', ''), ('', 'sogenannte Bonusmeilen'), ('', 'sogenannte Istanbul'), ('', 'sogenannte Resettlement'), ('', 'sogenannte Parallelaktionen'), ('', 'sogenannten Mini'), ('', 'sogenannter Uploadfilter'), ('', 'sogenannten Baseline'), ('', 'sogenannten Lebensmittelcoaching'), ('sogenannten anderen Leistungsanbietern', ''), ('sogenannten trockenen Einkommens', ''), ('', 'Sogenannte Blindpool'), ('', 'sogenannte Alternative'), ('', 'sogenannte GVFG'), ('', 'sogenannten Bewertungen'), ('sogenannte standardisierte Bewertung', ''), ('', 'sogenannten Point'), ('', 'sogenannte Covered'), ('', 'sogenannter Hacker'), ('', 'sogenannte Pflanzenschutzmittelanwendungsverordnung'), ('', 'sogenannten Sterbehilfevereinen'), ('', 'sogenannten Kappungsgrenze'), ('', 'sogenannten Eigenbedarfskündigung'), ('', 'sogenannten Berlin'), ('', 'sogenannten Bürgerkriegs'), ('', 'sogenannte Schattentage'), ('', 'sogenannte Durcheinander'), ('', 'sogenannte Post'), ('', 'sogenannte Wiederherstellungsklage'), ('', 'sogenannten Hausregeln'), ('', 'sogenannte Patrioten'), ('', 'sogenannten Sozialismus'), ('', 'sogenannte Quellen'), ('sogenannten sozialen Netzwerke', ''), ('', 'sogenannten Mitte'), ('', 'sogenannten Querdenkern'), ('', 'sogenannten Querdenker'), ('', 'sogenannten Aufteiler'), ('', 'sogenannte Kooperationsverbot'), ('', 'sogenannten Querdenker')]\n"
     ]
    }
   ],
   "source": [
    "pattern2 = r\"(\\wogenannt\\w+ [a-z]+ [A-Z]\\w+\\b)|(\\wogenannt\\w+ [A-Z]\\w+\\b)\"\n",
    "\n",
    "matches2 = re.findall(pattern2, reden)\n",
    "\n",
    "print(matches2)"
   ]
  },
  {
   "cell_type": "code",
   "execution_count": 15,
   "id": "ddf66b52",
   "metadata": {},
   "outputs": [
    {
     "name": "stdout",
     "output_type": "stream",
     "text": [
      "[('', 'sogenannte Lern-Buddys', ''), ('', 'sogenannte Bonusmeilen-Affäre', ''), ('', 'sogenannte Istanbul-Konvention', ''), ('', 'sogenannte Resettlement-Plätze', ''), ('', 'sogenannten Mini-KWKs', ''), ('', 'sogenannten Baseline-Studie', ''), ('', 'Sogenannte Blindpool-Anlagen', ''), ('', 'sogenannten Point-of', ''), ('', 'sogenannte Post-Covid', ''), ('', 'sogenannte Quellen-Telekommunikationsüberwachung', '')]\n"
     ]
    }
   ],
   "source": [
    "pattern3 = r\"(\\wogenannt\\w+ [a-z]+ [A-Z]\\w+\\b[\\S[A-Z]\\w*\\b]?)|(\\wogenannt\\w+ [A-Z]\\w+\\b[\\S[A-Z]\\w*\\b]?)|(\\wogenannt\\w+ [A-Z]\\w+\\b[\\S[A-Z]\\w*\\b]?[\\S[a-z]\\w*\\b]?)\"\n",
    "\n",
    "matches3 = re.findall(pattern3, reden)\n",
    "\n",
    "print(matches3)"
   ]
  },
  {
   "cell_type": "code",
   "execution_count": 16,
   "id": "6006863a",
   "metadata": {},
   "outputs": [
    {
     "name": "stdout",
     "output_type": "stream",
     "text": [
      "138\n",
      "43\n",
      "10\n"
     ]
    }
   ],
   "source": [
    "# Anzahl der Ergebnisse:\n",
    "\n",
    "print(len(matches1))\n",
    "print(len(matches2))\n",
    "print(len(matches3))"
   ]
  },
  {
   "cell_type": "code",
   "execution_count": null,
   "id": "e44f2ba3",
   "metadata": {},
   "outputs": [],
   "source": []
  }
 ],
 "metadata": {
  "kernelspec": {
   "display_name": "Python 3 (ipykernel)",
   "language": "python",
   "name": "python3"
  },
  "language_info": {
   "codemirror_mode": {
    "name": "ipython",
    "version": 3
   },
   "file_extension": ".py",
   "mimetype": "text/x-python",
   "name": "python",
   "nbconvert_exporter": "python",
   "pygments_lexer": "ipython3",
   "version": "3.11.5"
  }
 },
 "nbformat": 4,
 "nbformat_minor": 5
}
