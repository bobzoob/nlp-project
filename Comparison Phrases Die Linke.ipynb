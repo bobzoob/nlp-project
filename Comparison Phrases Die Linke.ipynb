{
 "cells": [
  {
   "cell_type": "code",
   "execution_count": 34,
   "id": "ec0cf774",
   "metadata": {},
   "outputs": [],
   "source": [
    "import pandas as pd"
   ]
  },
  {
   "cell_type": "code",
   "execution_count": 2,
   "id": "9e9e3b08",
   "metadata": {},
   "outputs": [],
   "source": [
    "import spacy"
   ]
  },
  {
   "cell_type": "code",
   "execution_count": 4,
   "id": "b476b758",
   "metadata": {},
   "outputs": [],
   "source": [
    "nlp = spacy.load(\"de_core_news_sm\")"
   ]
  },
  {
   "cell_type": "code",
   "execution_count": 5,
   "id": "70641eb0",
   "metadata": {},
   "outputs": [],
   "source": [
    "nlp.max_length = 1500000"
   ]
  },
  {
   "cell_type": "code",
   "execution_count": 6,
   "id": "7a5f9ceb",
   "metadata": {},
   "outputs": [],
   "source": [
    "with open (\"speeches.csv\", \"r\", encoding=\"UTF-8\") as f:\n",
    "    text = f.read()"
   ]
  },
  {
   "cell_type": "code",
   "execution_count": 7,
   "id": "93d63b6d",
   "metadata": {},
   "outputs": [],
   "source": [
    "opendiscourse = pd.read_csv(\"speeches.csv\")"
   ]
  },
  {
   "cell_type": "code",
   "execution_count": 11,
   "id": "4e979c76",
   "metadata": {},
   "outputs": [
    {
     "name": "stdout",
     "output_type": "stream",
     "text": [
      "    id  abbreviation                                          full_name\n",
      "0   -1     not found                                          not found\n",
      "1    0           AfD                        Alternative für Deutschland\n",
      "2    1           BHE      Block der Heimatvertriebenen und Entrechteten\n",
      "3    2            BP                                       Bayernpartei\n",
      "4    3         Grüne                              Bündnis 90/Die Grünen\n",
      "5    4       CDU/CSU  Christlich Demokratische Union Deutschlands/Ch...\n",
      "6    5            DA                  Demokratische Arbeitsgemeinschaft\n",
      "7    6    DIE LINKE.                                         DIE LINKE.\n",
      "8    7            DP                                    Deutsche Partei\n",
      "9    8        DP/DBP             Deutsche Partei/Deutsche Partei Bayern\n",
      "10   9        DP/FVP                  Deutsche Partei/Freie Volkspartei\n",
      "11  10           DPB                             Deutsche Partei Bayern\n",
      "12  11           DRP                              Deutsche Reformpartei\n",
      "13  12        DRP/NR             Deutsche Reichspartei/Nationale Rechte\n",
      "14  13           FDP                         Freie Demokratische Partei\n",
      "15  14            FU                              Föderalistische Union\n",
      "16  15           FVP                                  Freie Volkspartei\n",
      "17  16  Fraktionslos                                       Fraktionslos\n",
      "18  17        GB/BHE  Gesamtdeutscher Block/Bund der Heimatvertriebe...\n",
      "19  18          Gast                                               Gast\n",
      "20  19            KO                            Kraft/Oberländer-Gruppe\n",
      "21  20           KPD                 Kommunistische Partei Deutschlands\n",
      "22  21            NR                                   Nationale Rechte\n",
      "23  22           PDS              Partei des Demokratischen Sozialismus\n",
      "24  23           SPD            Sozialdemokratische Partei Deutschlands\n",
      "25  24           SSW                    Südschleswigscher Wählerverband\n",
      "26  25           WAV                 Wirtschaftliche Aufbau-Vereinigung\n",
      "27  26             Z                            Deutsche Zentrumspartei\n"
     ]
    }
   ],
   "source": [
    "with open (\"factions.csv\", \"r\", encoding=\"UTF-8\") as f:\n",
    "    text = f.read()\n",
    "\n",
    "factions = pd.read_csv(\"factions.csv\")\n",
    "\n",
    "print(factions)"
   ]
  },
  {
   "cell_type": "code",
   "execution_count": 12,
   "id": "890e664b",
   "metadata": {},
   "outputs": [
    {
     "name": "stdout",
     "output_type": "stream",
     "text": [
      "             id  session  electoralTerm     firstName       lastName  \\\n",
      "670890   685979       40             16     hans-kurt           hill   \n",
      "677508   677495        2             16         oskar     lafontaine   \n",
      "677518   677505        2             16          paul        schäfer   \n",
      "677564   677557        4             16        Gregor           Gysi   \n",
      "677566   677559        4             16        Gregor           Gysi   \n",
      "...         ...      ...            ...           ...            ...   \n",
      "907498  1060810      228             19       Norbert         Müller   \n",
      "907520  1060838      228             19  Lorenz Gösta         Beutin   \n",
      "907571  1060884      228             19  Alexander S.            Neu   \n",
      "907581  1060894      228             19         Birke  Bull-Bischoff   \n",
      "907605  1060918      228             19         Birke  Bull-Bischoff   \n",
      "\n",
      "        politicianId                                      speechContent  \\\n",
      "670890      11003767                                          Gern.\\n\\n   \n",
      "677508      11002715  Herr Präsident! Meine sehr geehrten Damen und ...   \n",
      "677518      11003833  Lieber Kollege Arnold, würden Sie bitte ersten...   \n",
      "677564      11000756  Herr Präsident! Meine lieben Kolleginnen und K...   \n",
      "677566      11000756  - ein letzter Satz -, Sie sind wohl für länger...   \n",
      "...              ...                                                ...   \n",
      "907498      11004613  \\n\\nDann bleibt mehr Zeit für Familie, und das...   \n",
      "907520      11004672  \\n\\nFrau Präsidentin! Liebe Kolleginnen und Ko...   \n",
      "907571      11004361  \\n\\nSehr geehrte Frau Präsidentin! Sehr geehrt...   \n",
      "907581      11004688  \\n\\nSehr geehrte Frau Präsidentin! Liebe Kolle...   \n",
      "907605      11004688  \\n\\nHerzlichen Dank, Frau Präsidentin. – Frau ...   \n",
      "\n",
      "        factionId                                        documentUrl  \\\n",
      "670890          6  https://dip21.bundestag.de/dip21/btp/16/16040.pdf   \n",
      "677508          6  https://dip21.bundestag.de/dip21/btp/16/16002.pdf   \n",
      "677518          6  https://dip21.bundestag.de/dip21/btp/16/16002.pdf   \n",
      "677564          6  https://dip21.bundestag.de/dip21/btp/16/16004.pdf   \n",
      "677566          6  https://dip21.bundestag.de/dip21/btp/16/16004.pdf   \n",
      "...           ...                                                ...   \n",
      "907498          6  https://dip21.bundestag.de/dip21/btp/19/19228.pdf   \n",
      "907520          6  https://dip21.bundestag.de/dip21/btp/19/19228.pdf   \n",
      "907571          6  https://dip21.bundestag.de/dip21/btp/19/19228.pdf   \n",
      "907581          6  https://dip21.bundestag.de/dip21/btp/19/19228.pdf   \n",
      "907605          6  https://dip21.bundestag.de/dip21/btp/19/19228.pdf   \n",
      "\n",
      "               positionShort positionLong        date  \n",
      "670890  Member of Parliament          NaN  2006-06-22  \n",
      "677508  Member of Parliament          NaN  2005-11-08  \n",
      "677518  Member of Parliament          NaN  2005-11-08  \n",
      "677564  Member of Parliament          NaN  2005-11-30  \n",
      "677566  Member of Parliament          NaN  2005-11-30  \n",
      "...                      ...          ...         ...  \n",
      "907498  Member of Parliament          NaN  2021-05-07  \n",
      "907520  Member of Parliament          NaN  2021-05-07  \n",
      "907571  Member of Parliament          NaN  2021-05-07  \n",
      "907581  Member of Parliament          NaN  2021-05-07  \n",
      "907605  Member of Parliament          NaN  2021-05-07  \n",
      "\n",
      "[16780 rows x 12 columns]\n"
     ]
    }
   ],
   "source": [
    "# Die Linke hat die ID 6\n",
    "\n",
    "linke = opendiscourse.query('factionId == 6')\n",
    "print(linke)"
   ]
  },
  {
   "cell_type": "code",
   "execution_count": 13,
   "id": "9ace5782",
   "metadata": {},
   "outputs": [
    {
     "name": "stdout",
     "output_type": "stream",
     "text": [
      "16780\n"
     ]
    }
   ],
   "source": [
    "print(len(linke))"
   ]
  },
  {
   "cell_type": "code",
   "execution_count": 14,
   "id": "ef86521c",
   "metadata": {},
   "outputs": [
    {
     "data": {
      "text/html": [
       "<div>\n",
       "<style scoped>\n",
       "    .dataframe tbody tr th:only-of-type {\n",
       "        vertical-align: middle;\n",
       "    }\n",
       "\n",
       "    .dataframe tbody tr th {\n",
       "        vertical-align: top;\n",
       "    }\n",
       "\n",
       "    .dataframe thead th {\n",
       "        text-align: right;\n",
       "    }\n",
       "</style>\n",
       "<table border=\"1\" class=\"dataframe\">\n",
       "  <thead>\n",
       "    <tr style=\"text-align: right;\">\n",
       "      <th></th>\n",
       "      <th>id</th>\n",
       "      <th>session</th>\n",
       "      <th>electoralTerm</th>\n",
       "      <th>firstName</th>\n",
       "      <th>lastName</th>\n",
       "      <th>politicianId</th>\n",
       "      <th>speechContent</th>\n",
       "      <th>factionId</th>\n",
       "      <th>documentUrl</th>\n",
       "      <th>positionShort</th>\n",
       "      <th>positionLong</th>\n",
       "      <th>date</th>\n",
       "    </tr>\n",
       "  </thead>\n",
       "  <tbody>\n",
       "    <tr>\n",
       "      <th>0</th>\n",
       "      <td>685979</td>\n",
       "      <td>40</td>\n",
       "      <td>16</td>\n",
       "      <td>hans-kurt</td>\n",
       "      <td>hill</td>\n",
       "      <td>11003767</td>\n",
       "      <td>Gern.\\n\\n</td>\n",
       "      <td>6</td>\n",
       "      <td>https://dip21.bundestag.de/dip21/btp/16/16040.pdf</td>\n",
       "      <td>Member of Parliament</td>\n",
       "      <td>NaN</td>\n",
       "      <td>2006-06-22</td>\n",
       "    </tr>\n",
       "    <tr>\n",
       "      <th>1</th>\n",
       "      <td>677495</td>\n",
       "      <td>2</td>\n",
       "      <td>16</td>\n",
       "      <td>oskar</td>\n",
       "      <td>lafontaine</td>\n",
       "      <td>11002715</td>\n",
       "      <td>Herr Präsident! Meine sehr geehrten Damen und ...</td>\n",
       "      <td>6</td>\n",
       "      <td>https://dip21.bundestag.de/dip21/btp/16/16002.pdf</td>\n",
       "      <td>Member of Parliament</td>\n",
       "      <td>NaN</td>\n",
       "      <td>2005-11-08</td>\n",
       "    </tr>\n",
       "    <tr>\n",
       "      <th>2</th>\n",
       "      <td>677505</td>\n",
       "      <td>2</td>\n",
       "      <td>16</td>\n",
       "      <td>paul</td>\n",
       "      <td>schäfer</td>\n",
       "      <td>11003833</td>\n",
       "      <td>Lieber Kollege Arnold, würden Sie bitte ersten...</td>\n",
       "      <td>6</td>\n",
       "      <td>https://dip21.bundestag.de/dip21/btp/16/16002.pdf</td>\n",
       "      <td>Member of Parliament</td>\n",
       "      <td>NaN</td>\n",
       "      <td>2005-11-08</td>\n",
       "    </tr>\n",
       "    <tr>\n",
       "      <th>3</th>\n",
       "      <td>677557</td>\n",
       "      <td>4</td>\n",
       "      <td>16</td>\n",
       "      <td>Gregor</td>\n",
       "      <td>Gysi</td>\n",
       "      <td>11000756</td>\n",
       "      <td>Herr Präsident! Meine lieben Kolleginnen und K...</td>\n",
       "      <td>6</td>\n",
       "      <td>https://dip21.bundestag.de/dip21/btp/16/16004.pdf</td>\n",
       "      <td>Member of Parliament</td>\n",
       "      <td>NaN</td>\n",
       "      <td>2005-11-30</td>\n",
       "    </tr>\n",
       "    <tr>\n",
       "      <th>4</th>\n",
       "      <td>677559</td>\n",
       "      <td>4</td>\n",
       "      <td>16</td>\n",
       "      <td>Gregor</td>\n",
       "      <td>Gysi</td>\n",
       "      <td>11000756</td>\n",
       "      <td>- ein letzter Satz -, Sie sind wohl für länger...</td>\n",
       "      <td>6</td>\n",
       "      <td>https://dip21.bundestag.de/dip21/btp/16/16004.pdf</td>\n",
       "      <td>Member of Parliament</td>\n",
       "      <td>NaN</td>\n",
       "      <td>2005-11-30</td>\n",
       "    </tr>\n",
       "    <tr>\n",
       "      <th>...</th>\n",
       "      <td>...</td>\n",
       "      <td>...</td>\n",
       "      <td>...</td>\n",
       "      <td>...</td>\n",
       "      <td>...</td>\n",
       "      <td>...</td>\n",
       "      <td>...</td>\n",
       "      <td>...</td>\n",
       "      <td>...</td>\n",
       "      <td>...</td>\n",
       "      <td>...</td>\n",
       "      <td>...</td>\n",
       "    </tr>\n",
       "    <tr>\n",
       "      <th>16775</th>\n",
       "      <td>1060810</td>\n",
       "      <td>228</td>\n",
       "      <td>19</td>\n",
       "      <td>Norbert</td>\n",
       "      <td>Müller</td>\n",
       "      <td>11004613</td>\n",
       "      <td>\\n\\nDann bleibt mehr Zeit für Familie, und das...</td>\n",
       "      <td>6</td>\n",
       "      <td>https://dip21.bundestag.de/dip21/btp/19/19228.pdf</td>\n",
       "      <td>Member of Parliament</td>\n",
       "      <td>NaN</td>\n",
       "      <td>2021-05-07</td>\n",
       "    </tr>\n",
       "    <tr>\n",
       "      <th>16776</th>\n",
       "      <td>1060838</td>\n",
       "      <td>228</td>\n",
       "      <td>19</td>\n",
       "      <td>Lorenz Gösta</td>\n",
       "      <td>Beutin</td>\n",
       "      <td>11004672</td>\n",
       "      <td>\\n\\nFrau Präsidentin! Liebe Kolleginnen und Ko...</td>\n",
       "      <td>6</td>\n",
       "      <td>https://dip21.bundestag.de/dip21/btp/19/19228.pdf</td>\n",
       "      <td>Member of Parliament</td>\n",
       "      <td>NaN</td>\n",
       "      <td>2021-05-07</td>\n",
       "    </tr>\n",
       "    <tr>\n",
       "      <th>16777</th>\n",
       "      <td>1060884</td>\n",
       "      <td>228</td>\n",
       "      <td>19</td>\n",
       "      <td>Alexander S.</td>\n",
       "      <td>Neu</td>\n",
       "      <td>11004361</td>\n",
       "      <td>\\n\\nSehr geehrte Frau Präsidentin! Sehr geehrt...</td>\n",
       "      <td>6</td>\n",
       "      <td>https://dip21.bundestag.de/dip21/btp/19/19228.pdf</td>\n",
       "      <td>Member of Parliament</td>\n",
       "      <td>NaN</td>\n",
       "      <td>2021-05-07</td>\n",
       "    </tr>\n",
       "    <tr>\n",
       "      <th>16778</th>\n",
       "      <td>1060894</td>\n",
       "      <td>228</td>\n",
       "      <td>19</td>\n",
       "      <td>Birke</td>\n",
       "      <td>Bull-Bischoff</td>\n",
       "      <td>11004688</td>\n",
       "      <td>\\n\\nSehr geehrte Frau Präsidentin! Liebe Kolle...</td>\n",
       "      <td>6</td>\n",
       "      <td>https://dip21.bundestag.de/dip21/btp/19/19228.pdf</td>\n",
       "      <td>Member of Parliament</td>\n",
       "      <td>NaN</td>\n",
       "      <td>2021-05-07</td>\n",
       "    </tr>\n",
       "    <tr>\n",
       "      <th>16779</th>\n",
       "      <td>1060918</td>\n",
       "      <td>228</td>\n",
       "      <td>19</td>\n",
       "      <td>Birke</td>\n",
       "      <td>Bull-Bischoff</td>\n",
       "      <td>11004688</td>\n",
       "      <td>\\n\\nHerzlichen Dank, Frau Präsidentin. – Frau ...</td>\n",
       "      <td>6</td>\n",
       "      <td>https://dip21.bundestag.de/dip21/btp/19/19228.pdf</td>\n",
       "      <td>Member of Parliament</td>\n",
       "      <td>NaN</td>\n",
       "      <td>2021-05-07</td>\n",
       "    </tr>\n",
       "  </tbody>\n",
       "</table>\n",
       "<p>16780 rows × 12 columns</p>\n",
       "</div>"
      ],
      "text/plain": [
       "            id  session  electoralTerm     firstName       lastName  \\\n",
       "0       685979       40             16     hans-kurt           hill   \n",
       "1       677495        2             16         oskar     lafontaine   \n",
       "2       677505        2             16          paul        schäfer   \n",
       "3       677557        4             16        Gregor           Gysi   \n",
       "4       677559        4             16        Gregor           Gysi   \n",
       "...        ...      ...            ...           ...            ...   \n",
       "16775  1060810      228             19       Norbert         Müller   \n",
       "16776  1060838      228             19  Lorenz Gösta         Beutin   \n",
       "16777  1060884      228             19  Alexander S.            Neu   \n",
       "16778  1060894      228             19         Birke  Bull-Bischoff   \n",
       "16779  1060918      228             19         Birke  Bull-Bischoff   \n",
       "\n",
       "       politicianId                                      speechContent  \\\n",
       "0          11003767                                          Gern.\\n\\n   \n",
       "1          11002715  Herr Präsident! Meine sehr geehrten Damen und ...   \n",
       "2          11003833  Lieber Kollege Arnold, würden Sie bitte ersten...   \n",
       "3          11000756  Herr Präsident! Meine lieben Kolleginnen und K...   \n",
       "4          11000756  - ein letzter Satz -, Sie sind wohl für länger...   \n",
       "...             ...                                                ...   \n",
       "16775      11004613  \\n\\nDann bleibt mehr Zeit für Familie, und das...   \n",
       "16776      11004672  \\n\\nFrau Präsidentin! Liebe Kolleginnen und Ko...   \n",
       "16777      11004361  \\n\\nSehr geehrte Frau Präsidentin! Sehr geehrt...   \n",
       "16778      11004688  \\n\\nSehr geehrte Frau Präsidentin! Liebe Kolle...   \n",
       "16779      11004688  \\n\\nHerzlichen Dank, Frau Präsidentin. – Frau ...   \n",
       "\n",
       "       factionId                                        documentUrl  \\\n",
       "0              6  https://dip21.bundestag.de/dip21/btp/16/16040.pdf   \n",
       "1              6  https://dip21.bundestag.de/dip21/btp/16/16002.pdf   \n",
       "2              6  https://dip21.bundestag.de/dip21/btp/16/16002.pdf   \n",
       "3              6  https://dip21.bundestag.de/dip21/btp/16/16004.pdf   \n",
       "4              6  https://dip21.bundestag.de/dip21/btp/16/16004.pdf   \n",
       "...          ...                                                ...   \n",
       "16775          6  https://dip21.bundestag.de/dip21/btp/19/19228.pdf   \n",
       "16776          6  https://dip21.bundestag.de/dip21/btp/19/19228.pdf   \n",
       "16777          6  https://dip21.bundestag.de/dip21/btp/19/19228.pdf   \n",
       "16778          6  https://dip21.bundestag.de/dip21/btp/19/19228.pdf   \n",
       "16779          6  https://dip21.bundestag.de/dip21/btp/19/19228.pdf   \n",
       "\n",
       "              positionShort positionLong        date  \n",
       "0      Member of Parliament          NaN  2006-06-22  \n",
       "1      Member of Parliament          NaN  2005-11-08  \n",
       "2      Member of Parliament          NaN  2005-11-08  \n",
       "3      Member of Parliament          NaN  2005-11-30  \n",
       "4      Member of Parliament          NaN  2005-11-30  \n",
       "...                     ...          ...         ...  \n",
       "16775  Member of Parliament          NaN  2021-05-07  \n",
       "16776  Member of Parliament          NaN  2021-05-07  \n",
       "16777  Member of Parliament          NaN  2021-05-07  \n",
       "16778  Member of Parliament          NaN  2021-05-07  \n",
       "16779  Member of Parliament          NaN  2021-05-07  \n",
       "\n",
       "[16780 rows x 12 columns]"
      ]
     },
     "execution_count": 14,
     "metadata": {},
     "output_type": "execute_result"
    }
   ],
   "source": [
    "linke.reset_index(drop=True)"
   ]
  },
  {
   "cell_type": "code",
   "execution_count": 15,
   "id": "a4e7755f",
   "metadata": {},
   "outputs": [
    {
     "name": "stdout",
     "output_type": "stream",
     "text": [
      "214201\n"
     ]
    }
   ],
   "source": [
    "reden = \" \".join(linke.tail(500)[\"speechContent\"].astype(str))\n",
    "\n",
    "doc = nlp(reden)\n",
    "\n",
    "print(len(doc))"
   ]
  },
  {
   "cell_type": "code",
   "execution_count": 16,
   "id": "6e650793",
   "metadata": {},
   "outputs": [],
   "source": [
    "import re"
   ]
  },
  {
   "cell_type": "code",
   "execution_count": 27,
   "id": "7d449cb0",
   "metadata": {},
   "outputs": [
    {
     "name": "stdout",
     "output_type": "stream",
     "text": [
      "[('', '', '', 'Bevölkerung'), ('', '', '', 'Bevölkerung'), ('', '', '', 'Bevölkerungsschutzgesetz'), ('', '', '', 'Bevölkerung'), ('', '', '', 'Bevölkerung'), ('', '', '', 'Bevölkerungszahl'), ('', '', '', 'Bevölkerungsschutzgesetz'), ('Volksverräter', '', '', ''), ('', '', '', 'Bevölkerung'), ('', '', '', 'Bevölkerung'), ('', '', '', 'Bevölkerungsschutzgesetz'), ('', 'Völkermord', '', ''), ('', '', '', 'Bevölkerung'), ('', '', '', 'Bevölkerung'), ('Volkszählungsurteil', '', '', ''), ('Volker', '', '', ''), ('Volker', '', '', ''), ('', '', '', 'Bevölkerung'), ('', '', '', 'Bevölkerungsschutzgesetz'), ('', '', '', 'Bevölkerung'), ('', 'Völkermord', '', ''), ('', 'Völkerrecht', '', ''), ('', '', '', 'Bevölkerung'), ('', '', '', 'Bevölkerung'), ('Volk', '', '', ''), ('', '', '', 'Zivilbevölkerung'), ('', '', '', 'Bevölkerung'), ('', '', '', 'Bevölkerung'), ('', '', '', 'Bevölkerung'), ('', '', 'Staatsvolk', ''), ('', '', '', 'Bevölkerungsschutzgesetz'), ('Volksbegehren', '', '', ''), ('Volksbegehren', '', '', ''), ('Volksbegehren', '', '', ''), ('', '', '', 'Bevölkerung'), ('Volksbegehren', '', '', ''), ('', '', '', 'Bevölkerung'), ('Volkswirtschaften', '', '', ''), ('Volkswirtschaften', '', '', ''), ('', '', '', 'Bevölkerung'), ('', '', '', 'Bevölkerungen'), ('', '', '', 'Bevölkerungsschutzgesetz'), ('', '', '', 'Bevölkerungsschutzgesetz'), ('', '', '', 'Bevölkerungsanteil'), ('Volksrepublik', '', '', ''), ('Volksentscheiden', '', '', ''), ('Volksentscheide', '', '', ''), ('Volksentscheide', '', '', ''), ('Volksentscheiden', '', '', ''), ('Volksanträge', '', '', ''), ('Volksentscheid', '', '', ''), ('Volksentscheides', '', '', ''), ('Volksentscheiden', '', '', ''), ('Volksentscheid', '', '', ''), ('Volksentscheide', '', '', ''), ('Volksgesetzgebung', '', '', ''), ('', '', '', 'Bevölkerung'), ('Volke', '', '', ''), ('', '', '', 'Bevölkerung'), ('Volksentscheide', '', '', ''), ('', '', '', 'Bevölkerung'), ('', '', '', 'Bevölkerung'), ('', '', '', 'Bevölkerung'), ('', '', '', 'Bevölkerung'), ('', '', '', 'Bevölkerung'), ('', '', '', 'Bevölkerung'), ('', '', '', 'Bevölkerung'), ('', 'Völkerrechts', '', ''), ('', '', '', 'Bevölkerung'), ('', '', '', 'Bevölkerung'), ('', '', '', 'Bevölkerung'), ('', 'Völker', '', ''), ('Volkes', '', '', ''), ('', '', '', 'Bevölkerung'), ('', '', '', 'Bevölkerung'), ('Volk', '', '', ''), ('', '', '', 'Zivilbevölkerung'), ('', '', '', 'Bevölkerung'), ('Volkes', '', '', ''), ('', 'Völker', '', ''), ('', 'Völker', '', ''), ('', '', '', 'Bevölkerungsschutz'), ('', '', '', 'Bevölkerungsschutz'), ('', '', '', 'Bevölkerungsschutzgesetz'), ('', '', '', 'Bevölkerung'), ('Volksabstimmung', '', '', ''), ('', '', '', 'Bevölkerung'), ('', 'Völkerrechtes', '', ''), ('', '', '', 'Bevölkerung'), ('', 'Völkermord', '', ''), ('', 'Völkermord', '', ''), ('', 'Völkermord', '', ''), ('', 'Völkermord', '', ''), ('Volk', '', '', ''), ('', '', 'umvolken', ''), ('', '', '', 'Bevölkerungspolitik'), ('', '', 'umgevolkt', ''), ('Volksgemeinschaftsfamilienpolitik', '', '', ''), ('', 'Völkermordes', '', ''), ('', 'Völkermordes', '', ''), ('', '', '', 'Bevölkerung'), ('', '', '', 'Bevölkerung'), ('', '', '', 'Zivilbevölkerung'), ('', '', '', 'Bevölkerung'), ('', '', '', 'Zivilbevölkerung'), ('', '', '', 'Bevölkerung'), ('', '', '', 'Bevölkerung'), ('Volksverhetzung', '', '', ''), ('Volksverhetzung', '', '', ''), ('', '', '', 'Bevölkerung'), ('', '', '', 'Bevölkerungsschutzgesetz'), ('', '', '', 'Bevölkerungsschutzgesetz'), ('', '', '', 'Bevölkerungsschutzgesetz'), ('', '', '', 'Bevölkerung'), ('', '', '', 'Bevölkerung'), ('', '', '', 'Bevölkerung'), ('', '', '', 'Bevölkerung'), ('', '', '', 'Bevölkerung'), ('', '', '', 'Bevölkerung'), ('', '', '', 'Bevölkerung'), ('', '', '', 'Bevölkerung'), ('', '', '', 'Bevölkerungsschutzgesetz'), ('', '', '', 'Bevölkerung'), ('', '', '', 'Bevölkerung'), ('', '', '', 'Bevölkerung'), ('', 'Völkerrecht', '', '')]\n"
     ]
    }
   ],
   "source": [
    "pattern1 = r\"(Volk\\w*\\b)|(Völker\\w*\\b)|(\\w+volk\\w*)|(\\w+völker\\w*)\"\n",
    "\n",
    "matches1 = re.findall(pattern1, reden)\n",
    "\n",
    "print(matches1)"
   ]
  },
  {
   "cell_type": "code",
   "execution_count": 29,
   "id": "e5b3d401",
   "metadata": {},
   "outputs": [
    {
     "name": "stdout",
     "output_type": "stream",
     "text": [
      "[('', 'sogenannter Salamitaktik'), ('', 'sogenannten Brennpunktschulen'), ('', 'sogenannten Grundrente'), ('', 'sogenannten Killerakquisition'), ('', 'sogenannte Gefährder'), ('', 'sogenannten Abgeltungsteuer'), ('sogenannten freien Markt', ''), ('sogenannte weiche Umwandlungsverbot', ''), ('', 'sogenannten Sozialraumorientierung'), ('sogenannten niedrigschwelligen Angeboten', ''), ('', 'sogenannten Linienbedarfsverkehr'), ('', 'sogenannten Unabhängigen'), ('', 'sogenannte Generationengerechtigkeit'), ('', 'sogenannten Quellen'), ('', 'sogenannten TRIPS'), ('sogenannte flexible Quoten', ''), ('', 'sogenannten Verlustrücktrag'), ('', 'sogenannten Bilanzpolizei'), ('', 'sogenannten Osterruhe'), ('', 'sogenannten Third'), ('', 'sogenannten Partnerschaftsrat'), ('sogenannte legislative Fußabdruck', ''), ('', 'sogenannte Europarente'), ('sogenannte betriebliche Altersvorsorge', ''), ('', 'sogenannten AfD'), ('', 'sogenannte Friedensmission'), ('sogenannte libysche Küstenwache', ''), ('', 'sogenannten Sprachpflegeamtes'), ('sogenannter geschlossener Master', ''), ('', 'sogenannte Meldepflicht'), ('sogenannte britische Variante', ''), ('', 'sogenannte Meisterzwang'), ('sogenannten eigenwirtschaftlichen Verkehre', ''), ('', 'sogenannter Scrubber'), ('', 'sogenannte Vierte'), ('', 'sogenannte Generalklausel'), ('', 'sogenannten Quellen'), ('', 'sogenannten Onlinedurchsuchung'), ('', 'sogenannter Querdenker'), ('', 'sogenannten Share'), ('', 'sogenannten Berghain'), ('', 'sogenannte Care'), ('', 'sogenannte Klimaschutzgesetz')]\n"
     ]
    }
   ],
   "source": [
    "pattern2 = r\"(\\wogenannt\\w+ [a-z]+ [A-Z]\\w+\\b)|(\\wogenannt\\w+ [A-Z]\\w+\\b)\"\n",
    "\n",
    "matches2 = re.findall(pattern2, reden)\n",
    "\n",
    "print(matches2)"
   ]
  },
  {
   "cell_type": "code",
   "execution_count": 31,
   "id": "70de4e17",
   "metadata": {},
   "outputs": [
    {
     "name": "stdout",
     "output_type": "stream",
     "text": [
      "[('', 'sogenannten Quellen-Telekommunikationsüberwachung', ''), ('', 'sogenannten Third-Party', ''), ('sogenannter geschlossener Master-Feeder', '', ''), ('', 'sogenannten Quellen-Telekommunikationsüberwachung', ''), ('', 'sogenannten Berghain-Urteil', ''), ('', 'sogenannte Care-Arbeit', '')]\n"
     ]
    }
   ],
   "source": [
    "pattern3 = r\"(\\wogenannt\\w+ [a-z]+ [A-Z]\\w+\\b[\\S[A-Z]\\w*\\b]?)|(\\wogenannt\\w+ [A-Z]\\w+\\b[\\S[A-Z]\\w*\\b]?)|(\\wogenannt\\w+ [A-Z]\\w+\\b[\\S[A-Z]\\w*\\b]?[\\S[a-z]\\w*\\b]?)\"\n",
    "\n",
    "matches3 = re.findall(pattern3, reden)\n",
    "\n",
    "print(matches3)"
   ]
  },
  {
   "cell_type": "code",
   "execution_count": 33,
   "id": "5eadd2ca",
   "metadata": {},
   "outputs": [
    {
     "name": "stdout",
     "output_type": "stream",
     "text": [
      "126\n",
      "43\n",
      "6\n"
     ]
    }
   ],
   "source": [
    "# Anzahl der Ergebnisse:\n",
    "\n",
    "print(len(matches1))\n",
    "print(len(matches2))\n",
    "print(len(matches3))"
   ]
  },
  {
   "cell_type": "code",
   "execution_count": null,
   "id": "f138dd07",
   "metadata": {},
   "outputs": [],
   "source": []
  }
 ],
 "metadata": {
  "kernelspec": {
   "display_name": "Python 3 (ipykernel)",
   "language": "python",
   "name": "python3"
  },
  "language_info": {
   "codemirror_mode": {
    "name": "ipython",
    "version": 3
   },
   "file_extension": ".py",
   "mimetype": "text/x-python",
   "name": "python",
   "nbconvert_exporter": "python",
   "pygments_lexer": "ipython3",
   "version": "3.11.5"
  }
 },
 "nbformat": 4,
 "nbformat_minor": 5
}
